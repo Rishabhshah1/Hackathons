{
 "cells": [
  {
   "cell_type": "code",
   "execution_count": 1,
   "metadata": {},
   "outputs": [],
   "source": [
    "import numpy as np\n",
    "import pandas as pd\n",
    "import seaborn as sns"
   ]
  },
  {
   "cell_type": "code",
   "execution_count": 2,
   "metadata": {},
   "outputs": [],
   "source": [
    "data = pd.read_csv(\"data.csv\")"
   ]
  },
  {
   "cell_type": "code",
   "execution_count": 3,
   "metadata": {
    "scrolled": false
   },
   "outputs": [
    {
     "data": {
      "text/html": [
       "<div>\n",
       "<style scoped>\n",
       "    .dataframe tbody tr th:only-of-type {\n",
       "        vertical-align: middle;\n",
       "    }\n",
       "\n",
       "    .dataframe tbody tr th {\n",
       "        vertical-align: top;\n",
       "    }\n",
       "\n",
       "    .dataframe thead th {\n",
       "        text-align: right;\n",
       "    }\n",
       "</style>\n",
       "<table border=\"1\" class=\"dataframe\">\n",
       "  <thead>\n",
       "    <tr style=\"text-align: right;\">\n",
       "      <th></th>\n",
       "      <th>S.No</th>\n",
       "      <th>EmpID</th>\n",
       "      <th>Emp Name</th>\n",
       "      <th>DOJ</th>\n",
       "      <th>Designation</th>\n",
       "      <th>Grade</th>\n",
       "      <th>Location</th>\n",
       "      <th>In Active Date</th>\n",
       "      <th>Tenure</th>\n",
       "      <th>Gender</th>\n",
       "      <th>Education</th>\n",
       "      <th>Age</th>\n",
       "      <th>Last Rating</th>\n",
       "      <th>Monthly Income</th>\n",
       "      <th>Engagement Score (% Satisfaction)</th>\n",
       "      <th>Marital Status</th>\n",
       "      <th>Zone</th>\n",
       "      <th>Remarks</th>\n",
       "    </tr>\n",
       "  </thead>\n",
       "  <tbody>\n",
       "    <tr>\n",
       "      <th>0</th>\n",
       "      <td>1</td>\n",
       "      <td>XYZ2685</td>\n",
       "      <td>ABC1</td>\n",
       "      <td>22-Nov-10</td>\n",
       "      <td>Sales Executive</td>\n",
       "      <td>E1</td>\n",
       "      <td>Bhavnagar</td>\n",
       "      <td>26-May-12</td>\n",
       "      <td>1. 6</td>\n",
       "      <td>Female</td>\n",
       "      <td>Bachelors</td>\n",
       "      <td>27</td>\n",
       "      <td>4</td>\n",
       "      <td>25535</td>\n",
       "      <td>2%</td>\n",
       "      <td>Divorced</td>\n",
       "      <td>West</td>\n",
       "      <td>Issues with the Manager</td>\n",
       "    </tr>\n",
       "    <tr>\n",
       "      <th>1</th>\n",
       "      <td>2</td>\n",
       "      <td>XYZ2490</td>\n",
       "      <td>ABC2</td>\n",
       "      <td>5-Jul-10</td>\n",
       "      <td>Technical Services Officer</td>\n",
       "      <td>M2</td>\n",
       "      <td>Jayanagar</td>\n",
       "      <td>6-Apr-12</td>\n",
       "      <td>1. 9</td>\n",
       "      <td>Male</td>\n",
       "      <td>MBA</td>\n",
       "      <td>36</td>\n",
       "      <td>2</td>\n",
       "      <td>52155</td>\n",
       "      <td>45%</td>\n",
       "      <td>Single</td>\n",
       "      <td>South</td>\n",
       "      <td>More Challenging Job Roles/ Higher designation</td>\n",
       "    </tr>\n",
       "    <tr>\n",
       "      <th>2</th>\n",
       "      <td>3</td>\n",
       "      <td>XYZ2662</td>\n",
       "      <td>ABC3</td>\n",
       "      <td>20-Oct-10</td>\n",
       "      <td>Sales Executive</td>\n",
       "      <td>E1</td>\n",
       "      <td>Indore</td>\n",
       "      <td>7-Apr-12</td>\n",
       "      <td>1. 5</td>\n",
       "      <td>Male</td>\n",
       "      <td>Bachelors</td>\n",
       "      <td>24</td>\n",
       "      <td>4</td>\n",
       "      <td>26438</td>\n",
       "      <td>18%</td>\n",
       "      <td>Divorced</td>\n",
       "      <td>CENTRAL</td>\n",
       "      <td>Issues with the Manager</td>\n",
       "    </tr>\n",
       "    <tr>\n",
       "      <th>3</th>\n",
       "      <td>4</td>\n",
       "      <td>XYZ1679</td>\n",
       "      <td>ABC4</td>\n",
       "      <td>1 May 08</td>\n",
       "      <td>AM - Sales</td>\n",
       "      <td>M1</td>\n",
       "      <td>Admin Gujarat</td>\n",
       "      <td>3 Apr 12</td>\n",
       "      <td>3 .11</td>\n",
       "      <td>Male</td>\n",
       "      <td>Bachelors</td>\n",
       "      <td>33</td>\n",
       "      <td>2</td>\n",
       "      <td>54311</td>\n",
       "      <td>82%</td>\n",
       "      <td>Single</td>\n",
       "      <td>West</td>\n",
       "      <td>Lack of Growth</td>\n",
       "    </tr>\n",
       "    <tr>\n",
       "      <th>4</th>\n",
       "      <td>5</td>\n",
       "      <td>XYZ2378</td>\n",
       "      <td>ABC5</td>\n",
       "      <td>3 Mar 10</td>\n",
       "      <td>Sales Executive</td>\n",
       "      <td>E1</td>\n",
       "      <td>Jagdishpuram</td>\n",
       "      <td>10 Apr 12</td>\n",
       "      <td>2 .1</td>\n",
       "      <td>Male</td>\n",
       "      <td>Bachelors</td>\n",
       "      <td>24</td>\n",
       "      <td>4</td>\n",
       "      <td>26702</td>\n",
       "      <td>49%</td>\n",
       "      <td>Divorced</td>\n",
       "      <td>North</td>\n",
       "      <td>Issues with the Manager</td>\n",
       "    </tr>\n",
       "  </tbody>\n",
       "</table>\n",
       "</div>"
      ],
      "text/plain": [
       "   S.No    EmpID Emp Name        DOJ                 Designation Grade  \\\n",
       "0     1  XYZ2685     ABC1  22-Nov-10             Sales Executive    E1   \n",
       "1     2  XYZ2490     ABC2   5-Jul-10  Technical Services Officer    M2   \n",
       "2     3  XYZ2662     ABC3  20-Oct-10             Sales Executive    E1   \n",
       "3     4  XYZ1679     ABC4   1 May 08                  AM - Sales    M1   \n",
       "4     5  XYZ2378     ABC5   3 Mar 10            Sales Executive     E1   \n",
       "\n",
       "        Location In Active Date  Tenure  Gender  Education  Age  Last Rating  \\\n",
       "0      Bhavnagar      26-May-12   1. 6   Female  Bachelors   27            4   \n",
       "1      Jayanagar       6-Apr-12   1. 9     Male        MBA   36            2   \n",
       "2         Indore       7-Apr-12   1. 5     Male  Bachelors   24            4   \n",
       "3  Admin Gujarat       3 Apr 12  3 .11     Male  Bachelors   33            2   \n",
       "4   Jagdishpuram      10 Apr 12   2 .1     Male  Bachelors   24            4   \n",
       "\n",
       "   Monthly Income Engagement Score (% Satisfaction) Marital Status     Zone  \\\n",
       "0           25535                                2%       Divorced     West   \n",
       "1           52155                               45%        Single     South   \n",
       "2           26438                               18%       Divorced  CENTRAL   \n",
       "3           54311                               82%        Single      West   \n",
       "4           26702                               49%       Divorced    North   \n",
       "\n",
       "                                          Remarks  \n",
       "0                         Issues with the Manager  \n",
       "1  More Challenging Job Roles/ Higher designation  \n",
       "2                         Issues with the Manager  \n",
       "3                                  Lack of Growth  \n",
       "4                         Issues with the Manager  "
      ]
     },
     "execution_count": 3,
     "metadata": {},
     "output_type": "execute_result"
    }
   ],
   "source": [
    "data.head()"
   ]
  },
  {
   "cell_type": "markdown",
   "metadata": {},
   "source": [
    "Removing Name and ID"
   ]
  },
  {
   "cell_type": "code",
   "execution_count": 4,
   "metadata": {},
   "outputs": [],
   "source": [
    "data = data.drop(\"S.No\",axis=1)"
   ]
  },
  {
   "cell_type": "code",
   "execution_count": 5,
   "metadata": {},
   "outputs": [],
   "source": [
    "data = data.drop([\"EmpID\",\"Emp Name\"],axis=1)"
   ]
  },
  {
   "cell_type": "markdown",
   "metadata": {},
   "source": [
    "Tenure is enough for now as it includes DOJ and End date"
   ]
  },
  {
   "cell_type": "code",
   "execution_count": 6,
   "metadata": {},
   "outputs": [],
   "source": [
    "data = data.drop([\"DOJ\", \"In Active Date\"],axis=1)"
   ]
  },
  {
   "cell_type": "markdown",
   "metadata": {},
   "source": [
    "Dropping attrition since all entries are 'Yes' and hence given dataset details only the people who have left their jobs."
   ]
  },
  {
   "cell_type": "code",
   "execution_count": 7,
   "metadata": {},
   "outputs": [
    {
     "data": {
      "text/html": [
       "<div>\n",
       "<style scoped>\n",
       "    .dataframe tbody tr th:only-of-type {\n",
       "        vertical-align: middle;\n",
       "    }\n",
       "\n",
       "    .dataframe tbody tr th {\n",
       "        vertical-align: top;\n",
       "    }\n",
       "\n",
       "    .dataframe thead th {\n",
       "        text-align: right;\n",
       "    }\n",
       "</style>\n",
       "<table border=\"1\" class=\"dataframe\">\n",
       "  <thead>\n",
       "    <tr style=\"text-align: right;\">\n",
       "      <th></th>\n",
       "      <th>Designation</th>\n",
       "      <th>Grade</th>\n",
       "      <th>Location</th>\n",
       "      <th>Tenure</th>\n",
       "      <th>Gender</th>\n",
       "      <th>Education</th>\n",
       "      <th>Age</th>\n",
       "      <th>Last Rating</th>\n",
       "      <th>Monthly Income</th>\n",
       "      <th>Engagement Score (% Satisfaction)</th>\n",
       "      <th>Marital Status</th>\n",
       "      <th>Zone</th>\n",
       "      <th>Remarks</th>\n",
       "    </tr>\n",
       "  </thead>\n",
       "  <tbody>\n",
       "    <tr>\n",
       "      <th>0</th>\n",
       "      <td>Sales Executive</td>\n",
       "      <td>E1</td>\n",
       "      <td>Bhavnagar</td>\n",
       "      <td>1. 6</td>\n",
       "      <td>Female</td>\n",
       "      <td>Bachelors</td>\n",
       "      <td>27</td>\n",
       "      <td>4</td>\n",
       "      <td>25535</td>\n",
       "      <td>2%</td>\n",
       "      <td>Divorced</td>\n",
       "      <td>West</td>\n",
       "      <td>Issues with the Manager</td>\n",
       "    </tr>\n",
       "    <tr>\n",
       "      <th>1</th>\n",
       "      <td>Technical Services Officer</td>\n",
       "      <td>M2</td>\n",
       "      <td>Jayanagar</td>\n",
       "      <td>1. 9</td>\n",
       "      <td>Male</td>\n",
       "      <td>MBA</td>\n",
       "      <td>36</td>\n",
       "      <td>2</td>\n",
       "      <td>52155</td>\n",
       "      <td>45%</td>\n",
       "      <td>Single</td>\n",
       "      <td>South</td>\n",
       "      <td>More Challenging Job Roles/ Higher designation</td>\n",
       "    </tr>\n",
       "    <tr>\n",
       "      <th>2</th>\n",
       "      <td>Sales Executive</td>\n",
       "      <td>E1</td>\n",
       "      <td>Indore</td>\n",
       "      <td>1. 5</td>\n",
       "      <td>Male</td>\n",
       "      <td>Bachelors</td>\n",
       "      <td>24</td>\n",
       "      <td>4</td>\n",
       "      <td>26438</td>\n",
       "      <td>18%</td>\n",
       "      <td>Divorced</td>\n",
       "      <td>CENTRAL</td>\n",
       "      <td>Issues with the Manager</td>\n",
       "    </tr>\n",
       "    <tr>\n",
       "      <th>3</th>\n",
       "      <td>AM - Sales</td>\n",
       "      <td>M1</td>\n",
       "      <td>Admin Gujarat</td>\n",
       "      <td>3 .11</td>\n",
       "      <td>Male</td>\n",
       "      <td>Bachelors</td>\n",
       "      <td>33</td>\n",
       "      <td>2</td>\n",
       "      <td>54311</td>\n",
       "      <td>82%</td>\n",
       "      <td>Single</td>\n",
       "      <td>West</td>\n",
       "      <td>Lack of Growth</td>\n",
       "    </tr>\n",
       "    <tr>\n",
       "      <th>4</th>\n",
       "      <td>Sales Executive</td>\n",
       "      <td>E1</td>\n",
       "      <td>Jagdishpuram</td>\n",
       "      <td>2 .1</td>\n",
       "      <td>Male</td>\n",
       "      <td>Bachelors</td>\n",
       "      <td>24</td>\n",
       "      <td>4</td>\n",
       "      <td>26702</td>\n",
       "      <td>49%</td>\n",
       "      <td>Divorced</td>\n",
       "      <td>North</td>\n",
       "      <td>Issues with the Manager</td>\n",
       "    </tr>\n",
       "  </tbody>\n",
       "</table>\n",
       "</div>"
      ],
      "text/plain": [
       "                  Designation Grade       Location  Tenure  Gender  Education  \\\n",
       "0             Sales Executive    E1      Bhavnagar   1. 6   Female  Bachelors   \n",
       "1  Technical Services Officer    M2      Jayanagar   1. 9     Male        MBA   \n",
       "2             Sales Executive    E1         Indore   1. 5     Male  Bachelors   \n",
       "3                  AM - Sales    M1  Admin Gujarat  3 .11     Male  Bachelors   \n",
       "4            Sales Executive     E1   Jagdishpuram   2 .1     Male  Bachelors   \n",
       "\n",
       "   Age  Last Rating  Monthly Income Engagement Score (% Satisfaction)  \\\n",
       "0   27            4           25535                                2%   \n",
       "1   36            2           52155                               45%   \n",
       "2   24            4           26438                               18%   \n",
       "3   33            2           54311                               82%   \n",
       "4   24            4           26702                               49%   \n",
       "\n",
       "  Marital Status     Zone                                         Remarks  \n",
       "0       Divorced     West                         Issues with the Manager  \n",
       "1        Single     South  More Challenging Job Roles/ Higher designation  \n",
       "2       Divorced  CENTRAL                         Issues with the Manager  \n",
       "3        Single      West                                  Lack of Growth  \n",
       "4       Divorced    North                         Issues with the Manager  "
      ]
     },
     "execution_count": 7,
     "metadata": {},
     "output_type": "execute_result"
    }
   ],
   "source": [
    "data.head()"
   ]
  },
  {
   "cell_type": "code",
   "execution_count": 8,
   "metadata": {},
   "outputs": [
    {
     "data": {
      "text/html": [
       "<div>\n",
       "<style scoped>\n",
       "    .dataframe tbody tr th:only-of-type {\n",
       "        vertical-align: middle;\n",
       "    }\n",
       "\n",
       "    .dataframe tbody tr th {\n",
       "        vertical-align: top;\n",
       "    }\n",
       "\n",
       "    .dataframe thead th {\n",
       "        text-align: right;\n",
       "    }\n",
       "</style>\n",
       "<table border=\"1\" class=\"dataframe\">\n",
       "  <thead>\n",
       "    <tr style=\"text-align: right;\">\n",
       "      <th></th>\n",
       "      <th>Age</th>\n",
       "      <th>Last Rating</th>\n",
       "      <th>Monthly Income</th>\n",
       "    </tr>\n",
       "  </thead>\n",
       "  <tbody>\n",
       "    <tr>\n",
       "      <th>count</th>\n",
       "      <td>327.000000</td>\n",
       "      <td>327.000000</td>\n",
       "      <td>327.000000</td>\n",
       "    </tr>\n",
       "    <tr>\n",
       "      <th>mean</th>\n",
       "      <td>28.541284</td>\n",
       "      <td>3.229358</td>\n",
       "      <td>32592.948012</td>\n",
       "    </tr>\n",
       "    <tr>\n",
       "      <th>std</th>\n",
       "      <td>5.048596</td>\n",
       "      <td>1.038814</td>\n",
       "      <td>15995.368859</td>\n",
       "    </tr>\n",
       "    <tr>\n",
       "      <th>min</th>\n",
       "      <td>24.000000</td>\n",
       "      <td>1.000000</td>\n",
       "      <td>25010.000000</td>\n",
       "    </tr>\n",
       "    <tr>\n",
       "      <th>25%</th>\n",
       "      <td>25.000000</td>\n",
       "      <td>2.000000</td>\n",
       "      <td>25704.500000</td>\n",
       "    </tr>\n",
       "    <tr>\n",
       "      <th>50%</th>\n",
       "      <td>27.000000</td>\n",
       "      <td>3.000000</td>\n",
       "      <td>26389.000000</td>\n",
       "    </tr>\n",
       "    <tr>\n",
       "      <th>75%</th>\n",
       "      <td>28.500000</td>\n",
       "      <td>4.000000</td>\n",
       "      <td>31916.000000</td>\n",
       "    </tr>\n",
       "    <tr>\n",
       "      <th>max</th>\n",
       "      <td>54.000000</td>\n",
       "      <td>5.000000</td>\n",
       "      <td>233954.000000</td>\n",
       "    </tr>\n",
       "  </tbody>\n",
       "</table>\n",
       "</div>"
      ],
      "text/plain": [
       "              Age  Last Rating  Monthly Income\n",
       "count  327.000000   327.000000      327.000000\n",
       "mean    28.541284     3.229358    32592.948012\n",
       "std      5.048596     1.038814    15995.368859\n",
       "min     24.000000     1.000000    25010.000000\n",
       "25%     25.000000     2.000000    25704.500000\n",
       "50%     27.000000     3.000000    26389.000000\n",
       "75%     28.500000     4.000000    31916.000000\n",
       "max     54.000000     5.000000   233954.000000"
      ]
     },
     "execution_count": 8,
     "metadata": {},
     "output_type": "execute_result"
    }
   ],
   "source": [
    "data.describe()"
   ]
  },
  {
   "cell_type": "markdown",
   "metadata": {},
   "source": [
    "Since the mean age is 28 with SD 5 ,younger people are more prone to leaving jobs. Also the last rating is pretty high , 75% of the people having 4."
   ]
  },
  {
   "cell_type": "code",
   "execution_count": 9,
   "metadata": {},
   "outputs": [
    {
     "data": {
      "text/html": [
       "<div>\n",
       "<style scoped>\n",
       "    .dataframe tbody tr th:only-of-type {\n",
       "        vertical-align: middle;\n",
       "    }\n",
       "\n",
       "    .dataframe tbody tr th {\n",
       "        vertical-align: top;\n",
       "    }\n",
       "\n",
       "    .dataframe thead th {\n",
       "        text-align: right;\n",
       "    }\n",
       "</style>\n",
       "<table border=\"1\" class=\"dataframe\">\n",
       "  <thead>\n",
       "    <tr style=\"text-align: right;\">\n",
       "      <th></th>\n",
       "      <th>Designation</th>\n",
       "      <th>Grade</th>\n",
       "      <th>Location</th>\n",
       "      <th>Tenure</th>\n",
       "      <th>Gender</th>\n",
       "      <th>Education</th>\n",
       "      <th>Engagement Score (% Satisfaction)</th>\n",
       "      <th>Marital Status</th>\n",
       "      <th>Zone</th>\n",
       "      <th>Remarks</th>\n",
       "    </tr>\n",
       "  </thead>\n",
       "  <tbody>\n",
       "    <tr>\n",
       "      <th>count</th>\n",
       "      <td>327</td>\n",
       "      <td>327</td>\n",
       "      <td>325</td>\n",
       "      <td>327</td>\n",
       "      <td>327</td>\n",
       "      <td>327</td>\n",
       "      <td>327</td>\n",
       "      <td>327</td>\n",
       "      <td>327</td>\n",
       "      <td>327</td>\n",
       "    </tr>\n",
       "    <tr>\n",
       "      <th>unique</th>\n",
       "      <td>10</td>\n",
       "      <td>7</td>\n",
       "      <td>140</td>\n",
       "      <td>73</td>\n",
       "      <td>2</td>\n",
       "      <td>2</td>\n",
       "      <td>98</td>\n",
       "      <td>3</td>\n",
       "      <td>9</td>\n",
       "      <td>10</td>\n",
       "    </tr>\n",
       "    <tr>\n",
       "      <th>top</th>\n",
       "      <td>Sales Executive</td>\n",
       "      <td>E1</td>\n",
       "      <td>Trivandrum</td>\n",
       "      <td>0. 0</td>\n",
       "      <td>Male</td>\n",
       "      <td>Bachelors</td>\n",
       "      <td>67%</td>\n",
       "      <td>Divorced</td>\n",
       "      <td>South</td>\n",
       "      <td>Issues with the Manager</td>\n",
       "    </tr>\n",
       "    <tr>\n",
       "      <th>freq</th>\n",
       "      <td>187</td>\n",
       "      <td>235</td>\n",
       "      <td>18</td>\n",
       "      <td>22</td>\n",
       "      <td>309</td>\n",
       "      <td>309</td>\n",
       "      <td>8</td>\n",
       "      <td>118</td>\n",
       "      <td>98</td>\n",
       "      <td>145</td>\n",
       "    </tr>\n",
       "  </tbody>\n",
       "</table>\n",
       "</div>"
      ],
      "text/plain": [
       "            Designation Grade    Location Tenure Gender  Education  \\\n",
       "count               327   327         325    327    327        327   \n",
       "unique               10     7         140     73      2          2   \n",
       "top     Sales Executive    E1  Trivandrum  0. 0    Male  Bachelors   \n",
       "freq                187   235          18     22    309        309   \n",
       "\n",
       "       Engagement Score (% Satisfaction) Marital Status   Zone  \\\n",
       "count                                327            327    327   \n",
       "unique                                98              3      9   \n",
       "top                                  67%       Divorced  South   \n",
       "freq                                   8            118     98   \n",
       "\n",
       "                        Remarks  \n",
       "count                       327  \n",
       "unique                       10  \n",
       "top     Issues with the Manager  \n",
       "freq                        145  "
      ]
     },
     "execution_count": 9,
     "metadata": {},
     "output_type": "execute_result"
    }
   ],
   "source": [
    "data.describe(include=['O'])"
   ]
  },
  {
   "cell_type": "markdown",
   "metadata": {},
   "source": [
    "Most of the people leaving are Males with 94.5% being Males and also bachelors also constitute 94.5% of the people leaving"
   ]
  },
  {
   "cell_type": "markdown",
   "metadata": {},
   "source": [
    "**Handling null values**"
   ]
  },
  {
   "cell_type": "code",
   "execution_count": 10,
   "metadata": {},
   "outputs": [
    {
     "data": {
      "text/plain": [
       "Designation                          False\n",
       "Grade                                False\n",
       "Location                              True\n",
       "Tenure                               False\n",
       "Gender                               False\n",
       "Education                            False\n",
       "Age                                  False\n",
       "Last Rating                          False\n",
       "Monthly Income                       False\n",
       "Engagement Score (% Satisfaction)    False\n",
       "Marital Status                       False\n",
       "Zone                                 False\n",
       "Remarks                              False\n",
       "dtype: bool"
      ]
     },
     "execution_count": 10,
     "metadata": {},
     "output_type": "execute_result"
    }
   ],
   "source": [
    "data.isnull().any()"
   ]
  },
  {
   "cell_type": "code",
   "execution_count": 11,
   "metadata": {},
   "outputs": [
    {
     "data": {
      "text/plain": [
       "Designation                          0\n",
       "Grade                                0\n",
       "Location                             2\n",
       "Tenure                               0\n",
       "Gender                               0\n",
       "Education                            0\n",
       "Age                                  0\n",
       "Last Rating                          0\n",
       "Monthly Income                       0\n",
       "Engagement Score (% Satisfaction)    0\n",
       "Marital Status                       0\n",
       "Zone                                 0\n",
       "Remarks                              0\n",
       "dtype: int64"
      ]
     },
     "execution_count": 11,
     "metadata": {},
     "output_type": "execute_result"
    }
   ],
   "source": [
    "data.isnull().sum()"
   ]
  },
  {
   "cell_type": "markdown",
   "metadata": {},
   "source": [
    "Since only 2 are there"
   ]
  },
  {
   "cell_type": "code",
   "execution_count": 12,
   "metadata": {},
   "outputs": [],
   "source": [
    "data.fillna(method='ffill',inplace=True)"
   ]
  },
  {
   "cell_type": "markdown",
   "metadata": {},
   "source": [
    "**Verifying Null values.**"
   ]
  },
  {
   "cell_type": "code",
   "execution_count": 13,
   "metadata": {},
   "outputs": [
    {
     "data": {
      "text/plain": [
       "False"
      ]
     },
     "execution_count": 13,
     "metadata": {},
     "output_type": "execute_result"
    }
   ],
   "source": [
    "data['Location'].isnull().any()"
   ]
  },
  {
   "cell_type": "code",
   "execution_count": 14,
   "metadata": {},
   "outputs": [
    {
     "data": {
      "text/plain": [
       "Designation                          False\n",
       "Grade                                False\n",
       "Location                             False\n",
       "Tenure                               False\n",
       "Gender                               False\n",
       "Education                            False\n",
       "Age                                  False\n",
       "Last Rating                          False\n",
       "Monthly Income                       False\n",
       "Engagement Score (% Satisfaction)    False\n",
       "Marital Status                       False\n",
       "Zone                                 False\n",
       "Remarks                              False\n",
       "dtype: bool"
      ]
     },
     "execution_count": 14,
     "metadata": {},
     "output_type": "execute_result"
    }
   ],
   "source": [
    "data.isnull().any()"
   ]
  },
  {
   "cell_type": "markdown",
   "metadata": {},
   "source": [
    "**Visualizing column-wise**"
   ]
  },
  {
   "cell_type": "code",
   "execution_count": 15,
   "metadata": {},
   "outputs": [
    {
     "data": {
      "text/html": [
       "<div>\n",
       "<style scoped>\n",
       "    .dataframe tbody tr th:only-of-type {\n",
       "        vertical-align: middle;\n",
       "    }\n",
       "\n",
       "    .dataframe tbody tr th {\n",
       "        vertical-align: top;\n",
       "    }\n",
       "\n",
       "    .dataframe thead th {\n",
       "        text-align: right;\n",
       "    }\n",
       "</style>\n",
       "<table border=\"1\" class=\"dataframe\">\n",
       "  <thead>\n",
       "    <tr style=\"text-align: right;\">\n",
       "      <th></th>\n",
       "      <th>Age</th>\n",
       "      <th>Last Rating</th>\n",
       "      <th>Monthly Income</th>\n",
       "    </tr>\n",
       "    <tr>\n",
       "      <th>Designation</th>\n",
       "      <th></th>\n",
       "      <th></th>\n",
       "      <th></th>\n",
       "    </tr>\n",
       "  </thead>\n",
       "  <tbody>\n",
       "    <tr>\n",
       "      <th>Sales Executive</th>\n",
       "      <td>26.000000</td>\n",
       "      <td>3.625000</td>\n",
       "      <td>25776.500000</td>\n",
       "    </tr>\n",
       "    <tr>\n",
       "      <th>AM - Sales</th>\n",
       "      <td>34.454545</td>\n",
       "      <td>2.863636</td>\n",
       "      <td>52457.000000</td>\n",
       "    </tr>\n",
       "    <tr>\n",
       "      <th>National Sales Head</th>\n",
       "      <td>54.000000</td>\n",
       "      <td>3.000000</td>\n",
       "      <td>233954.000000</td>\n",
       "    </tr>\n",
       "    <tr>\n",
       "      <th>Regional Manager</th>\n",
       "      <td>36.600000</td>\n",
       "      <td>3.800000</td>\n",
       "      <td>56420.200000</td>\n",
       "    </tr>\n",
       "    <tr>\n",
       "      <th>Sales Executive</th>\n",
       "      <td>26.037433</td>\n",
       "      <td>3.283422</td>\n",
       "      <td>25978.112299</td>\n",
       "    </tr>\n",
       "    <tr>\n",
       "      <th>Sales Executive</th>\n",
       "      <td>25.925000</td>\n",
       "      <td>3.075000</td>\n",
       "      <td>26088.100000</td>\n",
       "    </tr>\n",
       "    <tr>\n",
       "      <th>Sr Sales Executive</th>\n",
       "      <td>30.391304</td>\n",
       "      <td>3.260870</td>\n",
       "      <td>34459.000000</td>\n",
       "    </tr>\n",
       "    <tr>\n",
       "      <th>Sr Sales Executive</th>\n",
       "      <td>30.545455</td>\n",
       "      <td>3.000000</td>\n",
       "      <td>34001.636364</td>\n",
       "    </tr>\n",
       "    <tr>\n",
       "      <th>Technical Services Officer</th>\n",
       "      <td>39.333333</td>\n",
       "      <td>3.259259</td>\n",
       "      <td>54154.518519</td>\n",
       "    </tr>\n",
       "    <tr>\n",
       "      <th>Zonal Manager</th>\n",
       "      <td>42.333333</td>\n",
       "      <td>3.000000</td>\n",
       "      <td>83798.333333</td>\n",
       "    </tr>\n",
       "  </tbody>\n",
       "</table>\n",
       "</div>"
      ],
      "text/plain": [
       "                                  Age  Last Rating  Monthly Income\n",
       "Designation                                                       \n",
       " Sales Executive            26.000000     3.625000    25776.500000\n",
       "AM - Sales                  34.454545     2.863636    52457.000000\n",
       "National Sales Head         54.000000     3.000000   233954.000000\n",
       "Regional Manager            36.600000     3.800000    56420.200000\n",
       "Sales Executive             26.037433     3.283422    25978.112299\n",
       "Sales Executive             25.925000     3.075000    26088.100000\n",
       "Sr Sales Executive          30.391304     3.260870    34459.000000\n",
       "Sr Sales Executive          30.545455     3.000000    34001.636364\n",
       "Technical Services Officer  39.333333     3.259259    54154.518519\n",
       "Zonal Manager               42.333333     3.000000    83798.333333"
      ]
     },
     "execution_count": 15,
     "metadata": {},
     "output_type": "execute_result"
    }
   ],
   "source": [
    "data.groupby('Designation').mean()"
   ]
  },
  {
   "cell_type": "code",
   "execution_count": 16,
   "metadata": {},
   "outputs": [
    {
     "data": {
      "text/html": [
       "<div>\n",
       "<style scoped>\n",
       "    .dataframe tbody tr th:only-of-type {\n",
       "        vertical-align: middle;\n",
       "    }\n",
       "\n",
       "    .dataframe tbody tr th {\n",
       "        vertical-align: top;\n",
       "    }\n",
       "\n",
       "    .dataframe thead th {\n",
       "        text-align: right;\n",
       "    }\n",
       "</style>\n",
       "<table border=\"1\" class=\"dataframe\">\n",
       "  <thead>\n",
       "    <tr style=\"text-align: right;\">\n",
       "      <th></th>\n",
       "      <th>Age</th>\n",
       "      <th>Last Rating</th>\n",
       "      <th>Monthly Income</th>\n",
       "    </tr>\n",
       "    <tr>\n",
       "      <th>Grade</th>\n",
       "      <th></th>\n",
       "      <th></th>\n",
       "      <th></th>\n",
       "    </tr>\n",
       "  </thead>\n",
       "  <tbody>\n",
       "    <tr>\n",
       "      <th>CXO</th>\n",
       "      <td>54</td>\n",
       "      <td>3</td>\n",
       "      <td>233954</td>\n",
       "    </tr>\n",
       "    <tr>\n",
       "      <th>E1</th>\n",
       "      <td>6114</td>\n",
       "      <td>766</td>\n",
       "      <td>6107643</td>\n",
       "    </tr>\n",
       "    <tr>\n",
       "      <th>E2</th>\n",
       "      <td>1035</td>\n",
       "      <td>108</td>\n",
       "      <td>1166575</td>\n",
       "    </tr>\n",
       "    <tr>\n",
       "      <th>M1</th>\n",
       "      <td>758</td>\n",
       "      <td>63</td>\n",
       "      <td>1154054</td>\n",
       "    </tr>\n",
       "    <tr>\n",
       "      <th>M2</th>\n",
       "      <td>1062</td>\n",
       "      <td>88</td>\n",
       "      <td>1462172</td>\n",
       "    </tr>\n",
       "    <tr>\n",
       "      <th>M3</th>\n",
       "      <td>183</td>\n",
       "      <td>19</td>\n",
       "      <td>282101</td>\n",
       "    </tr>\n",
       "    <tr>\n",
       "      <th>M4</th>\n",
       "      <td>127</td>\n",
       "      <td>9</td>\n",
       "      <td>251395</td>\n",
       "    </tr>\n",
       "  </tbody>\n",
       "</table>\n",
       "</div>"
      ],
      "text/plain": [
       "        Age  Last Rating  Monthly Income\n",
       "Grade                                   \n",
       "CXO      54            3          233954\n",
       "E1     6114          766         6107643\n",
       "E2     1035          108         1166575\n",
       "M1      758           63         1154054\n",
       "M2     1062           88         1462172\n",
       "M3      183           19          282101\n",
       "M4      127            9          251395"
      ]
     },
     "execution_count": 16,
     "metadata": {},
     "output_type": "execute_result"
    }
   ],
   "source": [
    "data.groupby('Grade').sum()"
   ]
  },
  {
   "cell_type": "code",
   "execution_count": 17,
   "metadata": {},
   "outputs": [
    {
     "data": {
      "image/png": "[encoded data removed]",
      "text/plain": [
       "<Figure size 1440x1080 with 4 Axes>"
      ]
     },
     "metadata": {
      "needs_background": "light"
     },
     "output_type": "display_data"
    }
   ],
   "source": [
    "import matplotlib.pyplot as plt\n",
    "num_bins = 10\n",
    "data.hist(bins=num_bins, figsize=(20,15))\n",
    "plt.show()"
   ]
  },
  {
   "cell_type": "markdown",
   "metadata": {},
   "source": [
    "Insight that People within 24-30 years, People with monthly income around 50,000 are more prone to leave jobs."
   ]
  },
  {
   "cell_type": "code",
   "execution_count": 18,
   "metadata": {},
   "outputs": [
    {
     "data": {
      "image/png": "[encoded data removed]",
      "text/plain": [
       "<Figure size 1440x1440 with 4 Axes>"
      ]
     },
     "metadata": {
      "needs_background": "light"
     },
     "output_type": "display_data"
    }
   ],
   "source": [
    "data.hist(figsize=(20,20))\n",
    "plt.show()"
   ]
  },
  {
   "cell_type": "code",
   "execution_count": 19,
   "metadata": {},
   "outputs": [
    {
     "data": {
      "text/plain": [
       "Sales Executive               187\n",
       "Sales Executive                40\n",
       "Technical Services Officer     27\n",
       "Sr Sales Executive             23\n",
       "AM - Sales                     22\n",
       "Sr Sales Executive             11\n",
       " Sales Executive                8\n",
       "Regional Manager                5\n",
       "Zonal Manager                   3\n",
       "National Sales Head             1\n",
       "Name: Designation, dtype: int64"
      ]
     },
     "execution_count": 19,
     "metadata": {},
     "output_type": "execute_result"
    }
   ],
   "source": [
    "data['Designation'].value_counts()"
   ]
  },
  {
   "cell_type": "markdown",
   "metadata": {},
   "source": [
    "Highest Number of leavers were Sales Executive"
   ]
  },
  {
   "cell_type": "code",
   "execution_count": 20,
   "metadata": {},
   "outputs": [
    {
     "data": {
      "text/html": [
       "<div>\n",
       "<style scoped>\n",
       "    .dataframe tbody tr th:only-of-type {\n",
       "        vertical-align: middle;\n",
       "    }\n",
       "\n",
       "    .dataframe tbody tr th {\n",
       "        vertical-align: top;\n",
       "    }\n",
       "\n",
       "    .dataframe thead th {\n",
       "        text-align: right;\n",
       "    }\n",
       "</style>\n",
       "<table border=\"1\" class=\"dataframe\">\n",
       "  <thead>\n",
       "    <tr style=\"text-align: right;\">\n",
       "      <th></th>\n",
       "      <th>Designation</th>\n",
       "      <th>Grade</th>\n",
       "      <th>Location</th>\n",
       "      <th>Tenure</th>\n",
       "      <th>Gender</th>\n",
       "      <th>Education</th>\n",
       "      <th>Age</th>\n",
       "      <th>Last Rating</th>\n",
       "      <th>Monthly Income</th>\n",
       "      <th>Engagement Score (% Satisfaction)</th>\n",
       "      <th>Marital Status</th>\n",
       "      <th>Zone</th>\n",
       "      <th>Remarks</th>\n",
       "    </tr>\n",
       "  </thead>\n",
       "  <tbody>\n",
       "    <tr>\n",
       "      <th>0</th>\n",
       "      <td>Sales Executive</td>\n",
       "      <td>E1</td>\n",
       "      <td>Bhavnagar</td>\n",
       "      <td>1. 6</td>\n",
       "      <td>Female</td>\n",
       "      <td>Bachelors</td>\n",
       "      <td>27</td>\n",
       "      <td>4</td>\n",
       "      <td>25535</td>\n",
       "      <td>2%</td>\n",
       "      <td>Divorced</td>\n",
       "      <td>West</td>\n",
       "      <td>Issues with the Manager</td>\n",
       "    </tr>\n",
       "    <tr>\n",
       "      <th>1</th>\n",
       "      <td>Technical Services Officer</td>\n",
       "      <td>M2</td>\n",
       "      <td>Jayanagar</td>\n",
       "      <td>1. 9</td>\n",
       "      <td>Male</td>\n",
       "      <td>MBA</td>\n",
       "      <td>36</td>\n",
       "      <td>2</td>\n",
       "      <td>52155</td>\n",
       "      <td>45%</td>\n",
       "      <td>Single</td>\n",
       "      <td>South</td>\n",
       "      <td>More Challenging Job Roles/ Higher designation</td>\n",
       "    </tr>\n",
       "    <tr>\n",
       "      <th>2</th>\n",
       "      <td>Sales Executive</td>\n",
       "      <td>E1</td>\n",
       "      <td>Indore</td>\n",
       "      <td>1. 5</td>\n",
       "      <td>Male</td>\n",
       "      <td>Bachelors</td>\n",
       "      <td>24</td>\n",
       "      <td>4</td>\n",
       "      <td>26438</td>\n",
       "      <td>18%</td>\n",
       "      <td>Divorced</td>\n",
       "      <td>CENTRAL</td>\n",
       "      <td>Issues with the Manager</td>\n",
       "    </tr>\n",
       "    <tr>\n",
       "      <th>3</th>\n",
       "      <td>AM - Sales</td>\n",
       "      <td>M1</td>\n",
       "      <td>Admin Gujarat</td>\n",
       "      <td>3 .11</td>\n",
       "      <td>Male</td>\n",
       "      <td>Bachelors</td>\n",
       "      <td>33</td>\n",
       "      <td>2</td>\n",
       "      <td>54311</td>\n",
       "      <td>82%</td>\n",
       "      <td>Single</td>\n",
       "      <td>West</td>\n",
       "      <td>Lack of Growth</td>\n",
       "    </tr>\n",
       "    <tr>\n",
       "      <th>4</th>\n",
       "      <td>Sales Executive</td>\n",
       "      <td>E1</td>\n",
       "      <td>Jagdishpuram</td>\n",
       "      <td>2 .1</td>\n",
       "      <td>Male</td>\n",
       "      <td>Bachelors</td>\n",
       "      <td>24</td>\n",
       "      <td>4</td>\n",
       "      <td>26702</td>\n",
       "      <td>49%</td>\n",
       "      <td>Divorced</td>\n",
       "      <td>North</td>\n",
       "      <td>Issues with the Manager</td>\n",
       "    </tr>\n",
       "  </tbody>\n",
       "</table>\n",
       "</div>"
      ],
      "text/plain": [
       "                  Designation Grade       Location  Tenure  Gender  Education  \\\n",
       "0             Sales Executive    E1      Bhavnagar   1. 6   Female  Bachelors   \n",
       "1  Technical Services Officer    M2      Jayanagar   1. 9     Male        MBA   \n",
       "2             Sales Executive    E1         Indore   1. 5     Male  Bachelors   \n",
       "3                  AM - Sales    M1  Admin Gujarat  3 .11     Male  Bachelors   \n",
       "4            Sales Executive     E1   Jagdishpuram   2 .1     Male  Bachelors   \n",
       "\n",
       "   Age  Last Rating  Monthly Income Engagement Score (% Satisfaction)  \\\n",
       "0   27            4           25535                                2%   \n",
       "1   36            2           52155                               45%   \n",
       "2   24            4           26438                               18%   \n",
       "3   33            2           54311                               82%   \n",
       "4   24            4           26702                               49%   \n",
       "\n",
       "  Marital Status     Zone                                         Remarks  \n",
       "0       Divorced     West                         Issues with the Manager  \n",
       "1        Single     South  More Challenging Job Roles/ Higher designation  \n",
       "2       Divorced  CENTRAL                         Issues with the Manager  \n",
       "3        Single      West                                  Lack of Growth  \n",
       "4       Divorced    North                         Issues with the Manager  "
      ]
     },
     "execution_count": 20,
     "metadata": {},
     "output_type": "execute_result"
    }
   ],
   "source": [
    "data.head()"
   ]
  },
  {
   "cell_type": "code",
   "execution_count": 21,
   "metadata": {
    "scrolled": true
   },
   "outputs": [
    {
     "data": {
      "image/png": "[encoded data removed]",
      "text/plain": [
       "<Figure size 1440x360 with 1 Axes>"
      ]
     },
     "metadata": {
      "needs_background": "light"
     },
     "output_type": "display_data"
    }
   ],
   "source": [
    "total = data.shape[0]\n",
    "fig, ax = plt.subplots(figsize=(20,5))\n",
    "fig = sns.countplot(x='Designation',data=data,ax=ax)\n",
    "for p in fig.patches:\n",
    "    height = p.get_height()\n",
    "    fig.text(p.get_x()+p.get_width()/2.,\n",
    "            height + 3,\n",
    "            '{:1.2f}'.format(height*100/total),\n",
    "            ha=\"center\") \n",
    "plt.show()\n"
   ]
  },
  {
   "cell_type": "markdown",
   "metadata": {},
   "source": [
    "Most number of employees leaving are Sales Executives"
   ]
  },
  {
   "cell_type": "code",
   "execution_count": 22,
   "metadata": {},
   "outputs": [
    {
     "data": {
      "image/png": "[encoded data removed]",
      "text/plain": [
       "<Figure size 432x288 with 1 Axes>"
      ]
     },
     "metadata": {
      "needs_background": "light"
     },
     "output_type": "display_data"
    }
   ],
   "source": [
    "sns.countplot(x='Marital Status',data=data)\n",
    "plt.show()"
   ]
  },
  {
   "cell_type": "markdown",
   "metadata": {},
   "source": [
    "Marital status is not a major factor/ dependency factor"
   ]
  },
  {
   "cell_type": "code",
   "execution_count": 23,
   "metadata": {},
   "outputs": [
    {
     "data": {
      "image/png": "[encoded data removed]",
      "text/plain": [
       "<Figure size 432x288 with 1 Axes>"
      ]
     },
     "metadata": {
      "needs_background": "light"
     },
     "output_type": "display_data"
    }
   ],
   "source": [
    "sns.countplot(x='Education',data=data)\n",
    "plt.show()"
   ]
  },
  {
   "cell_type": "markdown",
   "metadata": {},
   "source": [
    "Bachelor's are more prone to leaving"
   ]
  },
  {
   "cell_type": "code",
   "execution_count": 24,
   "metadata": {},
   "outputs": [
    {
     "data": {
      "image/png": "[encoded data removed]",
      "text/plain": [
       "<Figure size 432x288 with 1 Axes>"
      ]
     },
     "metadata": {
      "needs_background": "light"
     },
     "output_type": "display_data"
    }
   ],
   "source": [
    "sns.countplot(x='Grade',data=data)\n",
    "plt.show()"
   ]
  },
  {
   "cell_type": "code",
   "execution_count": 25,
   "metadata": {},
   "outputs": [
    {
     "data": {
      "image/png": "[encoded data removed]",
      "text/plain": [
       "<Figure size 432x288 with 1 Axes>"
      ]
     },
     "metadata": {
      "needs_background": "light"
     },
     "output_type": "display_data"
    }
   ],
   "source": [
    "sns.countplot(x='Age',data=data)\n",
    "plt.show()"
   ]
  },
  {
   "cell_type": "code",
   "execution_count": 26,
   "metadata": {},
   "outputs": [
    {
     "data": {
      "image/png": "[encoded data removed]",
      "text/plain": [
       "<Figure size 432x288 with 1 Axes>"
      ]
     },
     "metadata": {
      "needs_background": "light"
     },
     "output_type": "display_data"
    }
   ],
   "source": [
    "sns.countplot(x='Last Rating',data=data)\n",
    "plt.show()"
   ]
  },
  {
   "cell_type": "code",
   "execution_count": 27,
   "metadata": {},
   "outputs": [
    {
     "data": {
      "image/png": "[encoded data removed]",
      "text/plain": [
       "<Figure size 1800x360 with 1 Axes>"
      ]
     },
     "metadata": {
      "needs_background": "light"
     },
     "output_type": "display_data"
    }
   ],
   "source": [
    "fig,ax = plt.subplots(figsize=(25,5))\n",
    "sns.countplot(x='Remarks',data=data,ax=ax)\n",
    "plt.show()"
   ]
  },
  {
   "cell_type": "markdown",
   "metadata": {},
   "source": [
    "Issues with manager seems to be a common reason for Attrition"
   ]
  },
  {
   "cell_type": "markdown",
   "metadata": {},
   "source": [
    "For tenure and engagement ratio, we need to group for some range and then plot."
   ]
  },
  {
   "cell_type": "code",
   "execution_count": 28,
   "metadata": {},
   "outputs": [
    {
     "data": {
      "text/plain": [
       "count     327\n",
       "unique     98\n",
       "top       67%\n",
       "freq        8\n",
       "Name: Engagement Score (% Satisfaction), dtype: object"
      ]
     },
     "execution_count": 28,
     "metadata": {},
     "output_type": "execute_result"
    }
   ],
   "source": [
    "data['Engagement Score (% Satisfaction)'].describe()"
   ]
  },
  {
   "cell_type": "code",
   "execution_count": 29,
   "metadata": {},
   "outputs": [
    {
     "data": {
      "text/plain": [
       "0       2%\n",
       "1      45%\n",
       "2      18%\n",
       "3      82%\n",
       "4      49%\n",
       "      ... \n",
       "322    69%\n",
       "323    11%\n",
       "324    11%\n",
       "325    82%\n",
       "326    49%\n",
       "Name: Engagement Score (% Satisfaction), Length: 327, dtype: object"
      ]
     },
     "execution_count": 29,
     "metadata": {},
     "output_type": "execute_result"
    }
   ],
   "source": [
    "data['Engagement Score (% Satisfaction)']"
   ]
  },
  {
   "cell_type": "code",
   "execution_count": 30,
   "metadata": {},
   "outputs": [],
   "source": [
    "data['Engagement Score (% Satisfaction)']=data['Engagement Score (% Satisfaction)'].str[:-1]"
   ]
  },
  {
   "cell_type": "code",
   "execution_count": 31,
   "metadata": {},
   "outputs": [],
   "source": [
    "data['Engagement Score (% Satisfaction)']=data['Engagement Score (% Satisfaction)'].astype('int64')"
   ]
  },
  {
   "cell_type": "code",
   "execution_count": 32,
   "metadata": {},
   "outputs": [],
   "source": [
    "data.loc[ data['Engagement Score (% Satisfaction)'] <= 20, 'Engagement Score (% Satisfaction)'] = 0\n",
    "data.loc[(data['Engagement Score (% Satisfaction)'] > 20) & (data['Engagement Score (% Satisfaction)'] <= 40), 'Engagement Score (% Satisfaction)'] = 1\n",
    "data.loc[(data['Engagement Score (% Satisfaction)'] > 40) & (data['Engagement Score (% Satisfaction)'] <= 60), 'Engagement Score (% Satisfaction)'] = 2\n",
    "data.loc[(data['Engagement Score (% Satisfaction)'] > 60) & (data['Engagement Score (% Satisfaction)'] <= 80), 'Engagement Score (% Satisfaction)'] = 3\n",
    "data.loc[(data['Engagement Score (% Satisfaction)'] > 80) & (data['Engagement Score (% Satisfaction)'] <= 100), 'Engagement Score (% Satisfaction)'] = 4\n",
    "\n"
   ]
  },
  {
   "cell_type": "code",
   "execution_count": 33,
   "metadata": {},
   "outputs": [
    {
     "data": {
      "text/plain": [
       "0      0\n",
       "1      2\n",
       "2      0\n",
       "3      4\n",
       "4      2\n",
       "      ..\n",
       "322    3\n",
       "323    0\n",
       "324    0\n",
       "325    4\n",
       "326    2\n",
       "Name: Engagement Score (% Satisfaction), Length: 327, dtype: int64"
      ]
     },
     "execution_count": 33,
     "metadata": {},
     "output_type": "execute_result"
    }
   ],
   "source": [
    "data['Engagement Score (% Satisfaction)']"
   ]
  },
  {
   "cell_type": "code",
   "execution_count": 34,
   "metadata": {},
   "outputs": [
    {
     "data": {
      "image/png": "[encoded data removed]",
      "text/plain": [
       "<Figure size 432x288 with 1 Axes>"
      ]
     },
     "metadata": {
      "needs_background": "light"
     },
     "output_type": "display_data"
    }
   ],
   "source": [
    "import matplotlib.pyplot as plt\n",
    "sns.countplot(x='Engagement Score (% Satisfaction)',data=data)\n",
    "plt.show()"
   ]
  },
  {
   "cell_type": "markdown",
   "metadata": {},
   "source": [
    "Conclusions :\n"
   ]
  },
  {
   "cell_type": "markdown",
   "metadata": {},
   "source": [
    "**1.** Younger people with age from 20-30 are more prone to leaving their jobs. Peak at around 27,28.\n",
    "\n",
    "**2.** Last rating is pretty high for all people so that does not provide any insight.\n",
    "\n",
    "**3.** Males and bachelors are prone to leave  in large numbers.\n",
    "\n",
    "**4.** People with grade of E1 and E2, sales executives and with income of around 50000 are more prone to leaving the jobs.\n",
    "\n",
    "**5.** Maritial status is not a major factor.\n",
    "\n",
    "**6.** Issues with manager seems to be major reason for attrition.\n",
    "\n",
    "**7.** Most of the people have high engagement ratio and so it did not provide any additional/major insight.\n",
    "\n"
   ]
  }
 ],
 "metadata": {
  "kernelspec": {
   "display_name": "Python 3",
   "language": "python",
   "name": "python3"
  },
  "language_info": {
   "codemirror_mode": {
    "name": "ipython",
    "version": 3
   },
   "file_extension": ".py",
   "mimetype": "text/x-python",
   "name": "python",
   "nbconvert_exporter": "python",
   "pygments_lexer": "ipython3",
   "version": "3.7.6"
  }
 },
 "nbformat": 4,
 "nbformat_minor": 2
}

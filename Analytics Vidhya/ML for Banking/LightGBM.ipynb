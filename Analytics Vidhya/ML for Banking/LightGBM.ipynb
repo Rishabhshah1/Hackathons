{
 "cells": [
  {
   "cell_type": "markdown",
   "metadata": {},
   "source": [
    "This code is inspired from [Atif Hassan's](https://github.com/atif-hassan/Competition-code/blob/master/AnalyticsVidhya/Machine%20Learning%20for%20Banking/code/predict.ipynb) approach"
   ]
  },
  {
   "cell_type": "markdown",
   "metadata": {},
   "source": [
    "# Usual imports"
   ]
  },
  {
   "cell_type": "code",
   "execution_count": 12,
   "metadata": {},
   "outputs": [],
   "source": [
    "import pandas as pd\n",
    "import numpy as np\n",
    "from sklearn.preprocessing import LabelEncoder\n",
    "from sklearn.model_selection import train_test_split, KFold, StratifiedKFold\n",
    "from lightgbm import LGBMClassifier\n",
    "from sklearn.metrics import f1_score\n",
    "from imblearn.over_sampling import SMOTE\n",
    "from collections import Counter\n",
    "import warnings\n",
    "warnings.filterwarnings(\"ignore\")"
   ]
  },
  {
   "cell_type": "markdown",
   "metadata": {},
   "source": [
    "# Pre-processing"
   ]
  },
  {
   "cell_type": "code",
   "execution_count": 2,
   "metadata": {},
   "outputs": [
    {
     "data": {
      "text/html": [
       "<div>\n",
       "<style scoped>\n",
       "    .dataframe tbody tr th:only-of-type {\n",
       "        vertical-align: middle;\n",
       "    }\n",
       "\n",
       "    .dataframe tbody tr th {\n",
       "        vertical-align: top;\n",
       "    }\n",
       "\n",
       "    .dataframe thead th {\n",
       "        text-align: right;\n",
       "    }\n",
       "</style>\n",
       "<table border=\"1\" class=\"dataframe\">\n",
       "  <thead>\n",
       "    <tr style=\"text-align: right;\">\n",
       "      <th></th>\n",
       "      <th>Loan_Amount_Requested</th>\n",
       "      <th>Length_Employed</th>\n",
       "      <th>Home_Owner</th>\n",
       "      <th>Annual_Income</th>\n",
       "      <th>Income_Verified</th>\n",
       "      <th>Purpose_Of_Loan</th>\n",
       "      <th>Debt_To_Income</th>\n",
       "      <th>Inquiries_Last_6Mo</th>\n",
       "      <th>Months_Since_Deliquency</th>\n",
       "      <th>Number_Open_Accounts</th>\n",
       "      <th>Total_Accounts</th>\n",
       "      <th>Gender</th>\n",
       "      <th>Interest_Rate</th>\n",
       "    </tr>\n",
       "  </thead>\n",
       "  <tbody>\n",
       "    <tr>\n",
       "      <th>0</th>\n",
       "      <td>7000</td>\n",
       "      <td>10</td>\n",
       "      <td>5</td>\n",
       "      <td>68000.000000</td>\n",
       "      <td>2</td>\n",
       "      <td>0</td>\n",
       "      <td>18.37</td>\n",
       "      <td>0</td>\n",
       "      <td>0.0</td>\n",
       "      <td>9</td>\n",
       "      <td>14</td>\n",
       "      <td>0</td>\n",
       "      <td>1</td>\n",
       "    </tr>\n",
       "    <tr>\n",
       "      <th>1</th>\n",
       "      <td>30000</td>\n",
       "      <td>4</td>\n",
       "      <td>0</td>\n",
       "      <td>73331.159434</td>\n",
       "      <td>0</td>\n",
       "      <td>2</td>\n",
       "      <td>14.93</td>\n",
       "      <td>0</td>\n",
       "      <td>17.0</td>\n",
       "      <td>12</td>\n",
       "      <td>24</td>\n",
       "      <td>0</td>\n",
       "      <td>3</td>\n",
       "    </tr>\n",
       "    <tr>\n",
       "      <th>2</th>\n",
       "      <td>24725</td>\n",
       "      <td>7</td>\n",
       "      <td>0</td>\n",
       "      <td>75566.400000</td>\n",
       "      <td>1</td>\n",
       "      <td>2</td>\n",
       "      <td>15.88</td>\n",
       "      <td>0</td>\n",
       "      <td>0.0</td>\n",
       "      <td>12</td>\n",
       "      <td>16</td>\n",
       "      <td>1</td>\n",
       "      <td>3</td>\n",
       "    </tr>\n",
       "    <tr>\n",
       "      <th>3</th>\n",
       "      <td>16000</td>\n",
       "      <td>10</td>\n",
       "      <td>1</td>\n",
       "      <td>56160.000000</td>\n",
       "      <td>1</td>\n",
       "      <td>2</td>\n",
       "      <td>14.34</td>\n",
       "      <td>3</td>\n",
       "      <td>0.0</td>\n",
       "      <td>16</td>\n",
       "      <td>22</td>\n",
       "      <td>1</td>\n",
       "      <td>3</td>\n",
       "    </tr>\n",
       "    <tr>\n",
       "      <th>4</th>\n",
       "      <td>17000</td>\n",
       "      <td>8</td>\n",
       "      <td>4</td>\n",
       "      <td>96000.000000</td>\n",
       "      <td>1</td>\n",
       "      <td>2</td>\n",
       "      <td>22.17</td>\n",
       "      <td>1</td>\n",
       "      <td>0.0</td>\n",
       "      <td>19</td>\n",
       "      <td>30</td>\n",
       "      <td>0</td>\n",
       "      <td>1</td>\n",
       "    </tr>\n",
       "  </tbody>\n",
       "</table>\n",
       "</div>"
      ],
      "text/plain": [
       "   Loan_Amount_Requested  Length_Employed  Home_Owner  Annual_Income  \\\n",
       "0                   7000               10           5   68000.000000   \n",
       "1                  30000                4           0   73331.159434   \n",
       "2                  24725                7           0   75566.400000   \n",
       "3                  16000               10           1   56160.000000   \n",
       "4                  17000                8           4   96000.000000   \n",
       "\n",
       "   Income_Verified  Purpose_Of_Loan  Debt_To_Income  Inquiries_Last_6Mo  \\\n",
       "0                2                0           18.37                   0   \n",
       "1                0                2           14.93                   0   \n",
       "2                1                2           15.88                   0   \n",
       "3                1                2           14.34                   3   \n",
       "4                1                2           22.17                   1   \n",
       "\n",
       "   Months_Since_Deliquency  Number_Open_Accounts  Total_Accounts  Gender  \\\n",
       "0                      0.0                     9              14       0   \n",
       "1                     17.0                    12              24       0   \n",
       "2                      0.0                    12              16       1   \n",
       "3                      0.0                    16              22       1   \n",
       "4                      0.0                    19              30       0   \n",
       "\n",
       "   Interest_Rate  \n",
       "0              1  \n",
       "1              3  \n",
       "2              3  \n",
       "3              3  \n",
       "4              1  "
      ]
     },
     "execution_count": 2,
     "metadata": {},
     "output_type": "execute_result"
    }
   ],
   "source": [
    "df_train = pd.read_csv(\"train.csv\")\n",
    "df_test = pd.read_csv(\"test.csv\")\n",
    "\n",
    "# Convert to numeric\n",
    "df_train[\"Loan_Amount_Requested\"] = df_train[\"Loan_Amount_Requested\"].str.replace(\",\", \"\")\n",
    "df_train[\"Loan_Amount_Requested\"] = pd.to_numeric(df_train[\"Loan_Amount_Requested\"])\n",
    "df_test[\"Loan_Amount_Requested\"] = df_test[\"Loan_Amount_Requested\"].str.replace(\",\", \"\")\n",
    "df_test[\"Loan_Amount_Requested\"] = pd.to_numeric(df_test[\"Loan_Amount_Requested\"])\n",
    "\n",
    "# Fill NaN\n",
    "df_train[\"Length_Employed\"].fillna('NaN', inplace=True)\n",
    "df_test[\"Length_Employed\"].fillna('NaN', inplace=True)\n",
    "\n",
    "df_train[\"Home_Owner\"].fillna('NaN', inplace=True)\n",
    "df_test[\"Home_Owner\"].fillna('NaN', inplace=True)\n",
    "\n",
    "df_train[\"Purpose_Of_Loan\"].fillna('NaN', inplace=True)\n",
    "df_test[\"Purpose_Of_Loan\"].fillna('NaN', inplace=True)\n",
    "\n",
    "df_train[\"Gender\"].fillna('NaN', inplace=True)\n",
    "df_test[\"Gender\"].fillna('NaN', inplace=True)\n",
    "\n",
    "# Drop loan ids\n",
    "df_train = df_train.drop([\"Loan_ID\"], axis=1)\n",
    "loan_ids = df_test[\"Loan_ID\"].values\n",
    "df_test = df_test.drop([\"Loan_ID\"], axis=1)\n",
    "\n",
    "# Label Encode\n",
    "le = LabelEncoder()\n",
    "df_train[\"Length_Employed\"] = le.fit_transform(df_train[\"Length_Employed\"])\n",
    "df_test[\"Length_Employed\"] = le.transform(df_test[\"Length_Employed\"])\n",
    "\n",
    "df_train[\"Home_Owner\"] = le.fit_transform(df_train[\"Home_Owner\"])\n",
    "df_test[\"Home_Owner\"] = le.transform(df_test[\"Home_Owner\"])\n",
    "\n",
    "df_train[\"Income_Verified\"] = le.fit_transform(df_train[\"Income_Verified\"])\n",
    "df_test[\"Income_Verified\"] = le.transform(df_test[\"Income_Verified\"])\n",
    "\n",
    "df_train[\"Purpose_Of_Loan\"] = le.fit_transform(df_train[\"Purpose_Of_Loan\"])\n",
    "df_test[\"Purpose_Of_Loan\"] = le.transform(df_test[\"Purpose_Of_Loan\"])\n",
    "\n",
    "df_train[\"Gender\"] = le.fit_transform(df_train[\"Gender\"])\n",
    "df_test[\"Gender\"] = le.transform(df_test[\"Gender\"])\n",
    "\n",
    "# Fill NaN with mean\n",
    "df_train[\"Annual_Income\"].fillna(df_train[\"Annual_Income\"].mean(), inplace=True)\n",
    "df_test[\"Annual_Income\"].fillna(df_test[\"Annual_Income\"].mean(), inplace=True)\n",
    "\n",
    "# Assumption: If it is NaN, then user has no deliquency, so set with 0\n",
    "df_train[\"Months_Since_Deliquency\"].fillna(0, inplace=True)\n",
    "df_test[\"Months_Since_Deliquency\"].fillna(0, inplace=True)\n",
    "\n",
    "df_train.head()"
   ]
  },
  {
   "cell_type": "code",
   "execution_count": 3,
   "metadata": {},
   "outputs": [
    {
     "name": "stdout",
     "output_type": "stream",
     "text": [
      "<class 'pandas.core.frame.DataFrame'>\n",
      "RangeIndex: 164309 entries, 0 to 164308\n",
      "Data columns (total 13 columns):\n",
      " #   Column                   Non-Null Count   Dtype  \n",
      "---  ------                   --------------   -----  \n",
      " 0   Loan_Amount_Requested    164309 non-null  int64  \n",
      " 1   Length_Employed          164309 non-null  int64  \n",
      " 2   Home_Owner               164309 non-null  int64  \n",
      " 3   Annual_Income            164309 non-null  float64\n",
      " 4   Income_Verified          164309 non-null  int64  \n",
      " 5   Purpose_Of_Loan          164309 non-null  int64  \n",
      " 6   Debt_To_Income           164309 non-null  float64\n",
      " 7   Inquiries_Last_6Mo       164309 non-null  int64  \n",
      " 8   Months_Since_Deliquency  164309 non-null  float64\n",
      " 9   Number_Open_Accounts     164309 non-null  int64  \n",
      " 10  Total_Accounts           164309 non-null  int64  \n",
      " 11  Gender                   164309 non-null  int64  \n",
      " 12  Interest_Rate            164309 non-null  int64  \n",
      "dtypes: float64(3), int64(10)\n",
      "memory usage: 16.3 MB\n"
     ]
    }
   ],
   "source": [
    "df_train.info()"
   ]
  },
  {
   "cell_type": "markdown",
   "metadata": {},
   "source": [
    "# LightGBM Model"
   ]
  },
  {
   "cell_type": "code",
   "execution_count": 4,
   "metadata": {},
   "outputs": [
    {
     "data": {
      "text/plain": [
       "((164309, 12), (164309,), (109541, 12))"
      ]
     },
     "execution_count": 4,
     "metadata": {},
     "output_type": "execute_result"
    }
   ],
   "source": [
    "X_train, Y_train = df_train.drop([\"Interest_Rate\"], axis=1).values, df_train[\"Interest_Rate\"].values\n",
    "X_test = df_test.values\n",
    "\n",
    "X_train.shape, Y_train.shape, X_test.shape"
   ]
  },
  {
   "cell_type": "code",
   "execution_count": 5,
   "metadata": {},
   "outputs": [
    {
     "name": "stdout",
     "output_type": "stream",
     "text": [
      "0.5368406292231035\n",
      "0.5329528456116052\n",
      "0.5354034675626155\n",
      "0.5356220996921175\n",
      "0.5340578715783949\n",
      "Average:  0.5349753827335674\n"
     ]
    }
   ],
   "source": [
    "kfold, scores = KFold(n_splits=5, shuffle=True, random_state=0), list()\n",
    "for train, test in kfold.split(X_train):\n",
    "    x_train, x_test = X_train[train], X_train[test]\n",
    "    y_train, y_test = Y_train[train], Y_train[test]\n",
    "    \n",
    "    num_class1, num_class2, num_class3 = Counter(y_train)[1], Counter(y_train)[2], Counter(y_train)[3]\n",
    "    sm = SMOTE(random_state=27, sampling_strategy={1: int(2.0*num_class1), 2: int(1.6*num_class2), 3: int(1.6*num_class3)})\n",
    "    x_train, y_train = sm.fit_resample(x_train, y_train)\n",
    "    \n",
    "    model = LGBMClassifier(random_state=27, max_depth=6, n_estimators=400)\n",
    "    model.fit(x_train, y_train, categorical_feature=[1, 2, 4, 5, 11])\n",
    "    preds = model.predict(x_test)\n",
    "    score = f1_score(y_test, preds, average=\"weighted\")\n",
    "    scores.append(score)\n",
    "    print(score)\n",
    "print(\"Average: \", sum(scores)/len(scores))"
   ]
  },
  {
   "cell_type": "code",
   "execution_count": 7,
   "metadata": {},
   "outputs": [],
   "source": [
    "# We apply SMOTE on all classes, thus increasing total sample size of each class\n",
    "# This generalizes the decision boundary\n",
    "num_class1, num_class2, num_class3 = Counter(Y_train)[1], Counter(Y_train)[2], Counter(Y_train)[3]\n",
    "sm = SMOTE(random_state=27, sampling_strategy={1: int(2.0*num_class1), 2: int(1.6*num_class2), 3: int(1.6*num_class3)})\n",
    "X_train_, Y_ = sm.fit_resample(X_train, Y_train)\n",
    "\n",
    "model = LGBMClassifier(random_state=27, max_depth=6, n_estimators=400)\n",
    "model.fit(X_train_, Y_, categorical_feature=[1, 2, 4, 5, 11])\n",
    "preds2 = model.predict_proba(X_test)"
   ]
  },
  {
   "cell_type": "code",
   "execution_count": 8,
   "metadata": {},
   "outputs": [
    {
     "data": {
      "text/plain": [
       "array([[0.1947634 , 0.32905743, 0.47617917],\n",
       "       [0.47235884, 0.45782208, 0.06981908],\n",
       "       [0.17364408, 0.43311972, 0.3932362 ],\n",
       "       ...,\n",
       "       [0.23256564, 0.56597307, 0.20146129],\n",
       "       [0.03827737, 0.45957147, 0.50215116],\n",
       "       [0.18933896, 0.45408846, 0.35657257]])"
      ]
     },
     "execution_count": 8,
     "metadata": {},
     "output_type": "execute_result"
    }
   ],
   "source": [
    "preds2"
   ]
  },
  {
   "cell_type": "code",
   "execution_count": 9,
   "metadata": {},
   "outputs": [],
   "source": [
    "preds2=np.argmax(preds2,axis=1)+1"
   ]
  },
  {
   "cell_type": "code",
   "execution_count": 11,
   "metadata": {},
   "outputs": [
    {
     "data": {
      "text/plain": [
       "array([3, 1, 2, ..., 2, 3, 2])"
      ]
     },
     "execution_count": 11,
     "metadata": {},
     "output_type": "execute_result"
    }
   ],
   "source": [
    "preds2"
   ]
  },
  {
   "cell_type": "code",
   "execution_count": 10,
   "metadata": {},
   "outputs": [],
   "source": [
    "pred15 = pd.DataFrame({\n",
    "    \"Loan_ID\":loan_ids,\n",
    "    \"Interest_Rate\": preds2\n",
    "})"
   ]
  },
  {
   "cell_type": "code",
   "execution_count": null,
   "metadata": {},
   "outputs": [],
   "source": [
    "# pred15.to_csv('submission15.csv', index=False)"
   ]
  },
  {
   "cell_type": "code",
   "execution_count": null,
   "metadata": {},
   "outputs": [],
   "source": []
  }
 ],
 "metadata": {
  "kernelspec": {
   "display_name": "Python 3",
   "language": "python",
   "name": "python3"
  },
  "language_info": {
   "codemirror_mode": {
    "name": "ipython",
    "version": 3
   },
   "file_extension": ".py",
   "mimetype": "text/x-python",
   "name": "python",
   "nbconvert_exporter": "python",
   "pygments_lexer": "ipython3",
   "version": "3.7.6"
  }
 },
 "nbformat": 4,
 "nbformat_minor": 4
}

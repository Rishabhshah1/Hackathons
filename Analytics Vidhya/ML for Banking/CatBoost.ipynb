{
 "cells": [
  {
   "cell_type": "markdown",
   "metadata": {},
   "source": [
    "This code is inspired from [Atif Hassan's](https://github.com/atif-hassan/Competition-code/blob/master/AnalyticsVidhya/Machine%20Learning%20for%20Banking/code/predict.ipynb) approach"
   ]
  },
  {
   "cell_type": "markdown",
   "metadata": {},
   "source": [
    "# Usual imports"
   ]
  },
  {
   "cell_type": "code",
   "execution_count": 12,
   "metadata": {},
   "outputs": [],
   "source": [
    "import pandas as pd\n",
    "import numpy as np\n",
    "from catboost import CatBoostClassifier\n",
    "from sklearn.model_selection import train_test_split, KFold, StratifiedKFold\n",
    "from sklearn.metrics import f1_score\n",
    "from imblearn.over_sampling import SMOTE\n",
    "from collections import Counter\n",
    "import warnings\n",
    "warnings.filterwarnings(\"ignore\")"
   ]
  },
  {
   "cell_type": "markdown",
   "metadata": {},
   "source": [
    "# Pre-processing"
   ]
  },
  {
   "cell_type": "code",
   "execution_count": 2,
   "metadata": {},
   "outputs": [
    {
     "data": {
      "text/html": [
       "<div>\n",
       "<style scoped>\n",
       "    .dataframe tbody tr th:only-of-type {\n",
       "        vertical-align: middle;\n",
       "    }\n",
       "\n",
       "    .dataframe tbody tr th {\n",
       "        vertical-align: top;\n",
       "    }\n",
       "\n",
       "    .dataframe thead th {\n",
       "        text-align: right;\n",
       "    }\n",
       "</style>\n",
       "<table border=\"1\" class=\"dataframe\">\n",
       "  <thead>\n",
       "    <tr style=\"text-align: right;\">\n",
       "      <th></th>\n",
       "      <th>Loan_Amount_Requested</th>\n",
       "      <th>Length_Employed</th>\n",
       "      <th>Home_Owner</th>\n",
       "      <th>Annual_Income</th>\n",
       "      <th>Income_Verified</th>\n",
       "      <th>Purpose_Of_Loan</th>\n",
       "      <th>Debt_To_Income</th>\n",
       "      <th>Inquiries_Last_6Mo</th>\n",
       "      <th>Months_Since_Deliquency</th>\n",
       "      <th>Number_Open_Accounts</th>\n",
       "      <th>Total_Accounts</th>\n",
       "      <th>Gender</th>\n",
       "      <th>Interest_Rate</th>\n",
       "    </tr>\n",
       "  </thead>\n",
       "  <tbody>\n",
       "    <tr>\n",
       "      <th>0</th>\n",
       "      <td>7000</td>\n",
       "      <td>&lt; 1 year</td>\n",
       "      <td>Rent</td>\n",
       "      <td>68000.000000</td>\n",
       "      <td>not verified</td>\n",
       "      <td>car</td>\n",
       "      <td>18.37</td>\n",
       "      <td>0</td>\n",
       "      <td>0.0</td>\n",
       "      <td>9</td>\n",
       "      <td>14</td>\n",
       "      <td>Female</td>\n",
       "      <td>1</td>\n",
       "    </tr>\n",
       "    <tr>\n",
       "      <th>1</th>\n",
       "      <td>30000</td>\n",
       "      <td>4 years</td>\n",
       "      <td>Mortgage</td>\n",
       "      <td>73331.159434</td>\n",
       "      <td>VERIFIED - income</td>\n",
       "      <td>debt_consolidation</td>\n",
       "      <td>14.93</td>\n",
       "      <td>0</td>\n",
       "      <td>17.0</td>\n",
       "      <td>12</td>\n",
       "      <td>24</td>\n",
       "      <td>Female</td>\n",
       "      <td>3</td>\n",
       "    </tr>\n",
       "    <tr>\n",
       "      <th>2</th>\n",
       "      <td>24725</td>\n",
       "      <td>7 years</td>\n",
       "      <td>Mortgage</td>\n",
       "      <td>75566.400000</td>\n",
       "      <td>VERIFIED - income source</td>\n",
       "      <td>debt_consolidation</td>\n",
       "      <td>15.88</td>\n",
       "      <td>0</td>\n",
       "      <td>0.0</td>\n",
       "      <td>12</td>\n",
       "      <td>16</td>\n",
       "      <td>Male</td>\n",
       "      <td>3</td>\n",
       "    </tr>\n",
       "    <tr>\n",
       "      <th>3</th>\n",
       "      <td>16000</td>\n",
       "      <td>&lt; 1 year</td>\n",
       "      <td>NaN</td>\n",
       "      <td>56160.000000</td>\n",
       "      <td>VERIFIED - income source</td>\n",
       "      <td>debt_consolidation</td>\n",
       "      <td>14.34</td>\n",
       "      <td>3</td>\n",
       "      <td>0.0</td>\n",
       "      <td>16</td>\n",
       "      <td>22</td>\n",
       "      <td>Male</td>\n",
       "      <td>3</td>\n",
       "    </tr>\n",
       "    <tr>\n",
       "      <th>4</th>\n",
       "      <td>17000</td>\n",
       "      <td>8 years</td>\n",
       "      <td>Own</td>\n",
       "      <td>96000.000000</td>\n",
       "      <td>VERIFIED - income source</td>\n",
       "      <td>debt_consolidation</td>\n",
       "      <td>22.17</td>\n",
       "      <td>1</td>\n",
       "      <td>0.0</td>\n",
       "      <td>19</td>\n",
       "      <td>30</td>\n",
       "      <td>Female</td>\n",
       "      <td>1</td>\n",
       "    </tr>\n",
       "  </tbody>\n",
       "</table>\n",
       "</div>"
      ],
      "text/plain": [
       "   Loan_Amount_Requested Length_Employed Home_Owner  Annual_Income  \\\n",
       "0                   7000        < 1 year       Rent   68000.000000   \n",
       "1                  30000         4 years   Mortgage   73331.159434   \n",
       "2                  24725         7 years   Mortgage   75566.400000   \n",
       "3                  16000        < 1 year        NaN   56160.000000   \n",
       "4                  17000         8 years        Own   96000.000000   \n",
       "\n",
       "            Income_Verified     Purpose_Of_Loan  Debt_To_Income  \\\n",
       "0              not verified                 car           18.37   \n",
       "1         VERIFIED - income  debt_consolidation           14.93   \n",
       "2  VERIFIED - income source  debt_consolidation           15.88   \n",
       "3  VERIFIED - income source  debt_consolidation           14.34   \n",
       "4  VERIFIED - income source  debt_consolidation           22.17   \n",
       "\n",
       "   Inquiries_Last_6Mo  Months_Since_Deliquency  Number_Open_Accounts  \\\n",
       "0                   0                      0.0                     9   \n",
       "1                   0                     17.0                    12   \n",
       "2                   0                      0.0                    12   \n",
       "3                   3                      0.0                    16   \n",
       "4                   1                      0.0                    19   \n",
       "\n",
       "   Total_Accounts  Gender  Interest_Rate  \n",
       "0              14  Female              1  \n",
       "1              24  Female              3  \n",
       "2              16    Male              3  \n",
       "3              22    Male              3  \n",
       "4              30  Female              1  "
      ]
     },
     "execution_count": 2,
     "metadata": {},
     "output_type": "execute_result"
    }
   ],
   "source": [
    "df_train = pd.read_csv(\"train.csv\")\n",
    "df_test = pd.read_csv(\"test.csv\")\n",
    "# Convert to numeric\n",
    "df_train[\"Loan_Amount_Requested\"] = df_train[\"Loan_Amount_Requested\"].str.replace(\",\", \"\")\n",
    "df_train[\"Loan_Amount_Requested\"] = pd.to_numeric(df_train[\"Loan_Amount_Requested\"])\n",
    "df_test[\"Loan_Amount_Requested\"] = df_test[\"Loan_Amount_Requested\"].str.replace(\",\", \"\")\n",
    "df_test[\"Loan_Amount_Requested\"] = pd.to_numeric(df_test[\"Loan_Amount_Requested\"])\n",
    "\n",
    "# Fill NaN\n",
    "df_train[\"Length_Employed\"].fillna('NaN', inplace=True)\n",
    "df_test[\"Length_Employed\"].fillna('NaN', inplace=True)\n",
    "\n",
    "df_train[\"Home_Owner\"].fillna('NaN', inplace=True)\n",
    "df_test[\"Home_Owner\"].fillna('NaN', inplace=True)\n",
    "\n",
    "df_train[\"Income_Verified\"].fillna('NaN', inplace=True)\n",
    "df_test[\"Income_Verified\"].fillna('NaN', inplace=True)\n",
    "\n",
    "df_train[\"Purpose_Of_Loan\"].fillna('NaN', inplace=True)\n",
    "df_test[\"Purpose_Of_Loan\"].fillna('NaN', inplace=True)\n",
    "\n",
    "df_train[\"Gender\"].fillna('NaN', inplace=True)\n",
    "df_test[\"Gender\"].fillna('NaN', inplace=True)\n",
    "\n",
    "# Drop loan ids\n",
    "df_train = df_train.drop([\"Loan_ID\"], axis=1)\n",
    "loan_ids = df_test[\"Loan_ID\"].values\n",
    "df_test = df_test.drop([\"Loan_ID\"], axis=1)\n",
    "\n",
    "# Fill NaN with mean\n",
    "df_train[\"Annual_Income\"].fillna(df_train[\"Annual_Income\"].mean(), inplace=True)\n",
    "df_test[\"Annual_Income\"].fillna(df_test[\"Annual_Income\"].mean(), inplace=True)\n",
    "\n",
    "# Assumption: If it is NaN, then user has no deliquency, so set with 0\n",
    "df_train[\"Months_Since_Deliquency\"].fillna(0, inplace=True)\n",
    "df_test[\"Months_Since_Deliquency\"].fillna(0, inplace=True)\n",
    "\n",
    "df_train.head()\n"
   ]
  },
  {
   "cell_type": "code",
   "execution_count": 3,
   "metadata": {},
   "outputs": [
    {
     "name": "stdout",
     "output_type": "stream",
     "text": [
      "<class 'pandas.core.frame.DataFrame'>\n",
      "RangeIndex: 164309 entries, 0 to 164308\n",
      "Data columns (total 13 columns):\n",
      " #   Column                   Non-Null Count   Dtype  \n",
      "---  ------                   --------------   -----  \n",
      " 0   Loan_Amount_Requested    164309 non-null  int64  \n",
      " 1   Length_Employed          164309 non-null  object \n",
      " 2   Home_Owner               164309 non-null  object \n",
      " 3   Annual_Income            164309 non-null  float64\n",
      " 4   Income_Verified          164309 non-null  object \n",
      " 5   Purpose_Of_Loan          164309 non-null  object \n",
      " 6   Debt_To_Income           164309 non-null  float64\n",
      " 7   Inquiries_Last_6Mo       164309 non-null  int64  \n",
      " 8   Months_Since_Deliquency  164309 non-null  float64\n",
      " 9   Number_Open_Accounts     164309 non-null  int64  \n",
      " 10  Total_Accounts           164309 non-null  int64  \n",
      " 11  Gender                   164309 non-null  object \n",
      " 12  Interest_Rate            164309 non-null  int64  \n",
      "dtypes: float64(3), int64(5), object(5)\n",
      "memory usage: 16.3+ MB\n"
     ]
    }
   ],
   "source": [
    "df_train.info()"
   ]
  },
  {
   "cell_type": "markdown",
   "metadata": {},
   "source": [
    "# CatBoost Model"
   ]
  },
  {
   "cell_type": "code",
   "execution_count": 4,
   "metadata": {},
   "outputs": [
    {
     "data": {
      "text/plain": [
       "((164309, 12), (164309,), (109541, 12))"
      ]
     },
     "execution_count": 4,
     "metadata": {},
     "output_type": "execute_result"
    }
   ],
   "source": [
    "X_train, Y_train = df_train.drop([\"Interest_Rate\"], axis=1).values, df_train[\"Interest_Rate\"].values\n",
    "X_test = df_test.values\n",
    "\n",
    "X_train.shape, Y_train.shape, X_test.shape"
   ]
  },
  {
   "cell_type": "code",
   "execution_count": 5,
   "metadata": {},
   "outputs": [
    {
     "name": "stdout",
     "output_type": "stream",
     "text": [
      "<generator object _BaseKFold.split at 0x7f31c92e78d0>\n",
      "Learning rate set to 0.175594\n",
      "0:\tlearn: 1.0809270\ttotal: 31.9ms\tremaining: 31.8s\n",
      "500:\tlearn: 0.9056365\ttotal: 14.7s\tremaining: 14.7s\n",
      "999:\tlearn: 0.8935474\ttotal: 28.8s\tremaining: 0us\n",
      "0.5356875530293171\n",
      "<generator object _BaseKFold.split at 0x7f31c92e7cd0>\n",
      "Learning rate set to 0.175594\n",
      "0:\tlearn: 1.0808188\ttotal: 30.5ms\tremaining: 30.5s\n",
      "500:\tlearn: 0.9044622\ttotal: 14.2s\tremaining: 14.2s\n",
      "999:\tlearn: 0.8920800\ttotal: 27.8s\tremaining: 0us\n",
      "0.5343847656372573\n",
      "<generator object _BaseKFold.split at 0x7f31c92e7cd0>\n",
      "Learning rate set to 0.175594\n",
      "0:\tlearn: 1.0812283\ttotal: 28.5ms\tremaining: 28.4s\n",
      "500:\tlearn: 0.9047396\ttotal: 16.6s\tremaining: 16.5s\n",
      "999:\tlearn: 0.8927573\ttotal: 32.3s\tremaining: 0us\n",
      "0.5327531394585924\n",
      "<generator object _BaseKFold.split at 0x7f31c92e7cd0>\n",
      "Learning rate set to 0.175594\n",
      "0:\tlearn: 1.0808246\ttotal: 67.1ms\tremaining: 1m 6s\n",
      "500:\tlearn: 0.9055686\ttotal: 29.6s\tremaining: 29.5s\n",
      "999:\tlearn: 0.8928687\ttotal: 57.9s\tremaining: 0us\n",
      "0.5346902360721592\n",
      "<generator object _BaseKFold.split at 0x7f31c92e7cd0>\n",
      "Learning rate set to 0.175594\n",
      "0:\tlearn: 1.0810148\ttotal: 80.3ms\tremaining: 1m 20s\n",
      "500:\tlearn: 0.9054090\ttotal: 28.4s\tremaining: 28.2s\n",
      "999:\tlearn: 0.8935009\ttotal: 58.2s\tremaining: 0us\n",
      "0.5323633869215276\n",
      "Average:  0.5339758162237708\n"
     ]
    }
   ],
   "source": [
    "kfold, scores = KFold(n_splits=5, shuffle=True, random_state=0), list()\n",
    "for train, test in kfold.split(X_train):\n",
    "    print(kfold.split(X_train))\n",
    "    x_train, x_test = X_train[train], X_train[test]\n",
    "    y_train, y_test = Y_train[train], Y_train[test]\n",
    "    \n",
    "    model = CatBoostClassifier(random_state=27, max_depth=4, task_type=\"GPU\", devices=\"0:1\", n_estimators=1000, verbose=500)\n",
    "    model.fit(x_train, y_train, cat_features=[1, 2, 4, 5, 11])\n",
    "    preds = model.predict(x_test)\n",
    "    score = f1_score(y_test, preds, average=\"weighted\")\n",
    "    scores.append(score)\n",
    "    print(score)\n",
    "print(\"Average: \", sum(scores)/len(scores))"
   ]
  },
  {
   "cell_type": "code",
   "execution_count": 6,
   "metadata": {},
   "outputs": [
    {
     "name": "stdout",
     "output_type": "stream",
     "text": [
      "Learning rate set to 0.183772\n",
      "0:\tlearn: 1.0802058\ttotal: 64ms\tremaining: 1m 3s\n",
      "500:\tlearn: 0.9064044\ttotal: 33.3s\tremaining: 33.2s\n",
      "999:\tlearn: 0.8955923\ttotal: 1m 2s\tremaining: 0us\n"
     ]
    }
   ],
   "source": [
    "model = CatBoostClassifier(random_state=27, task_type=\"GPU\", devices=\"0:1\", n_estimators=1000, max_depth=4, verbose=500)\n",
    "model.fit(X_train, Y_train, cat_features=[1, 2, 4, 5, 11])\n",
    "preds1 = model.predict_proba(X_test)"
   ]
  },
  {
   "cell_type": "code",
   "execution_count": 7,
   "metadata": {},
   "outputs": [
    {
     "data": {
      "text/plain": [
       "array([[0.17328609, 0.40864082, 0.41807309],\n",
       "       [0.52764357, 0.39569713, 0.0766593 ],\n",
       "       [0.1592445 , 0.42389746, 0.41685804],\n",
       "       ...,\n",
       "       [0.24586958, 0.54846146, 0.20566897],\n",
       "       [0.07056161, 0.32994468, 0.59949371],\n",
       "       [0.18279974, 0.45401243, 0.36318782]])"
      ]
     },
     "execution_count": 7,
     "metadata": {},
     "output_type": "execute_result"
    }
   ],
   "source": [
    "preds1"
   ]
  },
  {
   "cell_type": "code",
   "execution_count": 8,
   "metadata": {},
   "outputs": [],
   "source": [
    "preds1=np.argmax(preds1,axis=1)+1"
   ]
  },
  {
   "cell_type": "code",
   "execution_count": 9,
   "metadata": {},
   "outputs": [
    {
     "data": {
      "text/plain": [
       "array([3, 1, 2, ..., 2, 3, 2])"
      ]
     },
     "execution_count": 9,
     "metadata": {},
     "output_type": "execute_result"
    }
   ],
   "source": [
    "preds1"
   ]
  },
  {
   "cell_type": "code",
   "execution_count": 10,
   "metadata": {},
   "outputs": [],
   "source": [
    "pred14 = pd.DataFrame({\n",
    "    \"Loan_ID\":loan_ids,\n",
    "    \"Interest_Rate\": preds1\n",
    "})"
   ]
  },
  {
   "cell_type": "code",
   "execution_count": 11,
   "metadata": {},
   "outputs": [],
   "source": [
    "# pred14.to_csv('submission14.csv', index=False)"
   ]
  },
  {
   "cell_type": "code",
   "execution_count": null,
   "metadata": {},
   "outputs": [],
   "source": []
  }
 ],
 "metadata": {
  "kernelspec": {
   "display_name": "Python 3",
   "language": "python",
   "name": "python3"
  },
  "language_info": {
   "codemirror_mode": {
    "name": "ipython",
    "version": 3
   },
   "file_extension": ".py",
   "mimetype": "text/x-python",
   "name": "python",
   "nbconvert_exporter": "python",
   "pygments_lexer": "ipython3",
   "version": "3.7.6"
  }
 },
 "nbformat": 4,
 "nbformat_minor": 4
}

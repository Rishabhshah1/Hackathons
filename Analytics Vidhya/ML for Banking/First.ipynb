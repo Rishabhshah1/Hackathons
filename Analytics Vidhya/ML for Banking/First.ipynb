{
 "cells": [
  {
   "cell_type": "markdown",
   "metadata": {},
   "source": [
    "# Imports"
   ]
  },
  {
   "cell_type": "code",
   "execution_count": 46,
   "metadata": {},
   "outputs": [],
   "source": [
    "import numpy as np\n",
    "import pandas as pd\n",
    "import matplotlib.pyplot as plt"
   ]
  },
  {
   "cell_type": "code",
   "execution_count": 18,
   "metadata": {},
   "outputs": [],
   "source": [
    "train = pd.read_csv(\"train.csv\")\n",
    "test = pd.read_csv(\"test.csv\")\n",
    "sample = pd.read_csv(\"sample_submission.csv\")"
   ]
  },
  {
   "cell_type": "code",
   "execution_count": 19,
   "metadata": {},
   "outputs": [],
   "source": [
    "target = train['Interest_Rate']\n",
    "train = train.drop('Interest_Rate', axis=1)"
   ]
  },
  {
   "cell_type": "markdown",
   "metadata": {},
   "source": [
    "# Pre-processing"
   ]
  },
  {
   "cell_type": "code",
   "execution_count": 20,
   "metadata": {},
   "outputs": [
    {
     "name": "stdout",
     "output_type": "stream",
     "text": [
      "<class 'pandas.core.frame.DataFrame'>\n",
      "RangeIndex: 164309 entries, 0 to 164308\n",
      "Data columns (total 13 columns):\n",
      " #   Column                   Non-Null Count   Dtype  \n",
      "---  ------                   --------------   -----  \n",
      " 0   Loan_ID                  164309 non-null  int64  \n",
      " 1   Loan_Amount_Requested    164309 non-null  object \n",
      " 2   Length_Employed          156938 non-null  object \n",
      " 3   Home_Owner               138960 non-null  object \n",
      " 4   Annual_Income            139207 non-null  float64\n",
      " 5   Income_Verified          164309 non-null  object \n",
      " 6   Purpose_Of_Loan          164309 non-null  object \n",
      " 7   Debt_To_Income           164309 non-null  float64\n",
      " 8   Inquiries_Last_6Mo       164309 non-null  int64  \n",
      " 9   Months_Since_Deliquency  75930 non-null   float64\n",
      " 10  Number_Open_Accounts     164309 non-null  int64  \n",
      " 11  Total_Accounts           164309 non-null  int64  \n",
      " 12  Gender                   164309 non-null  object \n",
      "dtypes: float64(3), int64(4), object(6)\n",
      "memory usage: 16.3+ MB\n"
     ]
    }
   ],
   "source": [
    "train.info()"
   ]
  },
  {
   "cell_type": "markdown",
   "metadata": {},
   "source": [
    "Columns having empty values : Home_Owner, Length_Employed, Annual_income, Months_Since_deliquency"
   ]
  },
  {
   "cell_type": "code",
   "execution_count": 21,
   "metadata": {},
   "outputs": [
    {
     "data": {
      "text/html": [
       "<div>\n",
       "<style scoped>\n",
       "    .dataframe tbody tr th:only-of-type {\n",
       "        vertical-align: middle;\n",
       "    }\n",
       "\n",
       "    .dataframe tbody tr th {\n",
       "        vertical-align: top;\n",
       "    }\n",
       "\n",
       "    .dataframe thead th {\n",
       "        text-align: right;\n",
       "    }\n",
       "</style>\n",
       "<table border=\"1\" class=\"dataframe\">\n",
       "  <thead>\n",
       "    <tr style=\"text-align: right;\">\n",
       "      <th></th>\n",
       "      <th>Loan_ID</th>\n",
       "      <th>Loan_Amount_Requested</th>\n",
       "      <th>Length_Employed</th>\n",
       "      <th>Home_Owner</th>\n",
       "      <th>Annual_Income</th>\n",
       "      <th>Income_Verified</th>\n",
       "      <th>Purpose_Of_Loan</th>\n",
       "      <th>Debt_To_Income</th>\n",
       "      <th>Inquiries_Last_6Mo</th>\n",
       "      <th>Months_Since_Deliquency</th>\n",
       "      <th>Number_Open_Accounts</th>\n",
       "      <th>Total_Accounts</th>\n",
       "      <th>Gender</th>\n",
       "    </tr>\n",
       "  </thead>\n",
       "  <tbody>\n",
       "    <tr>\n",
       "      <th>0</th>\n",
       "      <td>10000001</td>\n",
       "      <td>7,000</td>\n",
       "      <td>&lt; 1 year</td>\n",
       "      <td>Rent</td>\n",
       "      <td>68000.0</td>\n",
       "      <td>not verified</td>\n",
       "      <td>car</td>\n",
       "      <td>18.37</td>\n",
       "      <td>0</td>\n",
       "      <td>NaN</td>\n",
       "      <td>9</td>\n",
       "      <td>14</td>\n",
       "      <td>Female</td>\n",
       "    </tr>\n",
       "    <tr>\n",
       "      <th>1</th>\n",
       "      <td>10000002</td>\n",
       "      <td>30,000</td>\n",
       "      <td>4 years</td>\n",
       "      <td>Mortgage</td>\n",
       "      <td>NaN</td>\n",
       "      <td>VERIFIED - income</td>\n",
       "      <td>debt_consolidation</td>\n",
       "      <td>14.93</td>\n",
       "      <td>0</td>\n",
       "      <td>17.0</td>\n",
       "      <td>12</td>\n",
       "      <td>24</td>\n",
       "      <td>Female</td>\n",
       "    </tr>\n",
       "    <tr>\n",
       "      <th>2</th>\n",
       "      <td>10000003</td>\n",
       "      <td>24,725</td>\n",
       "      <td>7 years</td>\n",
       "      <td>Mortgage</td>\n",
       "      <td>75566.4</td>\n",
       "      <td>VERIFIED - income source</td>\n",
       "      <td>debt_consolidation</td>\n",
       "      <td>15.88</td>\n",
       "      <td>0</td>\n",
       "      <td>NaN</td>\n",
       "      <td>12</td>\n",
       "      <td>16</td>\n",
       "      <td>Male</td>\n",
       "    </tr>\n",
       "    <tr>\n",
       "      <th>3</th>\n",
       "      <td>10000004</td>\n",
       "      <td>16,000</td>\n",
       "      <td>&lt; 1 year</td>\n",
       "      <td>NaN</td>\n",
       "      <td>56160.0</td>\n",
       "      <td>VERIFIED - income source</td>\n",
       "      <td>debt_consolidation</td>\n",
       "      <td>14.34</td>\n",
       "      <td>3</td>\n",
       "      <td>NaN</td>\n",
       "      <td>16</td>\n",
       "      <td>22</td>\n",
       "      <td>Male</td>\n",
       "    </tr>\n",
       "    <tr>\n",
       "      <th>4</th>\n",
       "      <td>10000005</td>\n",
       "      <td>17,000</td>\n",
       "      <td>8 years</td>\n",
       "      <td>Own</td>\n",
       "      <td>96000.0</td>\n",
       "      <td>VERIFIED - income source</td>\n",
       "      <td>debt_consolidation</td>\n",
       "      <td>22.17</td>\n",
       "      <td>1</td>\n",
       "      <td>NaN</td>\n",
       "      <td>19</td>\n",
       "      <td>30</td>\n",
       "      <td>Female</td>\n",
       "    </tr>\n",
       "    <tr>\n",
       "      <th>...</th>\n",
       "      <td>...</td>\n",
       "      <td>...</td>\n",
       "      <td>...</td>\n",
       "      <td>...</td>\n",
       "      <td>...</td>\n",
       "      <td>...</td>\n",
       "      <td>...</td>\n",
       "      <td>...</td>\n",
       "      <td>...</td>\n",
       "      <td>...</td>\n",
       "      <td>...</td>\n",
       "      <td>...</td>\n",
       "      <td>...</td>\n",
       "    </tr>\n",
       "    <tr>\n",
       "      <th>164304</th>\n",
       "      <td>10164305</td>\n",
       "      <td>20,725</td>\n",
       "      <td>10+ years</td>\n",
       "      <td>Rent</td>\n",
       "      <td>NaN</td>\n",
       "      <td>VERIFIED - income source</td>\n",
       "      <td>credit_card</td>\n",
       "      <td>13.56</td>\n",
       "      <td>0</td>\n",
       "      <td>NaN</td>\n",
       "      <td>13</td>\n",
       "      <td>16</td>\n",
       "      <td>Male</td>\n",
       "    </tr>\n",
       "    <tr>\n",
       "      <th>164305</th>\n",
       "      <td>10164306</td>\n",
       "      <td>6,000</td>\n",
       "      <td>8 years</td>\n",
       "      <td>Own</td>\n",
       "      <td>NaN</td>\n",
       "      <td>VERIFIED - income source</td>\n",
       "      <td>small_business</td>\n",
       "      <td>9.12</td>\n",
       "      <td>0</td>\n",
       "      <td>36.0</td>\n",
       "      <td>13</td>\n",
       "      <td>30</td>\n",
       "      <td>Male</td>\n",
       "    </tr>\n",
       "    <tr>\n",
       "      <th>164306</th>\n",
       "      <td>10164307</td>\n",
       "      <td>20,250</td>\n",
       "      <td>10+ years</td>\n",
       "      <td>Mortgage</td>\n",
       "      <td>NaN</td>\n",
       "      <td>VERIFIED - income</td>\n",
       "      <td>credit_card</td>\n",
       "      <td>18.17</td>\n",
       "      <td>1</td>\n",
       "      <td>NaN</td>\n",
       "      <td>17</td>\n",
       "      <td>30</td>\n",
       "      <td>Male</td>\n",
       "    </tr>\n",
       "    <tr>\n",
       "      <th>164307</th>\n",
       "      <td>10164308</td>\n",
       "      <td>10,000</td>\n",
       "      <td>4 years</td>\n",
       "      <td>Rent</td>\n",
       "      <td>NaN</td>\n",
       "      <td>not verified</td>\n",
       "      <td>major_purchase</td>\n",
       "      <td>18.75</td>\n",
       "      <td>1</td>\n",
       "      <td>48.0</td>\n",
       "      <td>16</td>\n",
       "      <td>62</td>\n",
       "      <td>Female</td>\n",
       "    </tr>\n",
       "    <tr>\n",
       "      <th>164308</th>\n",
       "      <td>10164309</td>\n",
       "      <td>9,250</td>\n",
       "      <td>10+ years</td>\n",
       "      <td>Rent</td>\n",
       "      <td>NaN</td>\n",
       "      <td>VERIFIED - income</td>\n",
       "      <td>credit_card</td>\n",
       "      <td>19.44</td>\n",
       "      <td>1</td>\n",
       "      <td>NaN</td>\n",
       "      <td>5</td>\n",
       "      <td>9</td>\n",
       "      <td>Female</td>\n",
       "    </tr>\n",
       "  </tbody>\n",
       "</table>\n",
       "<p>164309 rows × 13 columns</p>\n",
       "</div>"
      ],
      "text/plain": [
       "         Loan_ID Loan_Amount_Requested Length_Employed Home_Owner  \\\n",
       "0       10000001                 7,000        < 1 year       Rent   \n",
       "1       10000002                30,000         4 years   Mortgage   \n",
       "2       10000003                24,725         7 years   Mortgage   \n",
       "3       10000004                16,000        < 1 year        NaN   \n",
       "4       10000005                17,000         8 years        Own   \n",
       "...          ...                   ...             ...        ...   \n",
       "164304  10164305                20,725       10+ years       Rent   \n",
       "164305  10164306                 6,000         8 years        Own   \n",
       "164306  10164307                20,250       10+ years   Mortgage   \n",
       "164307  10164308                10,000         4 years       Rent   \n",
       "164308  10164309                 9,250       10+ years       Rent   \n",
       "\n",
       "        Annual_Income           Income_Verified     Purpose_Of_Loan  \\\n",
       "0             68000.0              not verified                 car   \n",
       "1                 NaN         VERIFIED - income  debt_consolidation   \n",
       "2             75566.4  VERIFIED - income source  debt_consolidation   \n",
       "3             56160.0  VERIFIED - income source  debt_consolidation   \n",
       "4             96000.0  VERIFIED - income source  debt_consolidation   \n",
       "...               ...                       ...                 ...   \n",
       "164304            NaN  VERIFIED - income source         credit_card   \n",
       "164305            NaN  VERIFIED - income source      small_business   \n",
       "164306            NaN         VERIFIED - income         credit_card   \n",
       "164307            NaN              not verified      major_purchase   \n",
       "164308            NaN         VERIFIED - income         credit_card   \n",
       "\n",
       "        Debt_To_Income  Inquiries_Last_6Mo  Months_Since_Deliquency  \\\n",
       "0                18.37                   0                      NaN   \n",
       "1                14.93                   0                     17.0   \n",
       "2                15.88                   0                      NaN   \n",
       "3                14.34                   3                      NaN   \n",
       "4                22.17                   1                      NaN   \n",
       "...                ...                 ...                      ...   \n",
       "164304           13.56                   0                      NaN   \n",
       "164305            9.12                   0                     36.0   \n",
       "164306           18.17                   1                      NaN   \n",
       "164307           18.75                   1                     48.0   \n",
       "164308           19.44                   1                      NaN   \n",
       "\n",
       "        Number_Open_Accounts  Total_Accounts  Gender  \n",
       "0                          9              14  Female  \n",
       "1                         12              24  Female  \n",
       "2                         12              16    Male  \n",
       "3                         16              22    Male  \n",
       "4                         19              30  Female  \n",
       "...                      ...             ...     ...  \n",
       "164304                    13              16    Male  \n",
       "164305                    13              30    Male  \n",
       "164306                    17              30    Male  \n",
       "164307                    16              62  Female  \n",
       "164308                     5               9  Female  \n",
       "\n",
       "[164309 rows x 13 columns]"
      ]
     },
     "execution_count": 21,
     "metadata": {},
     "output_type": "execute_result"
    }
   ],
   "source": [
    "train"
   ]
  },
  {
   "cell_type": "code",
   "execution_count": 22,
   "metadata": {},
   "outputs": [],
   "source": [
    "train = train.drop('Loan_ID', axis=1)\n",
    "test = test.drop('Loan_ID', axis=1)"
   ]
  },
  {
   "cell_type": "code",
   "execution_count": 23,
   "metadata": {},
   "outputs": [],
   "source": [
    "train['Loan_Amount_Requested'] = train['Loan_Amount_Requested'].str.replace(',','')\n",
    "test['Loan_Amount_Requested'] = test['Loan_Amount_Requested'].str.replace(',','')"
   ]
  },
  {
   "cell_type": "code",
   "execution_count": 24,
   "metadata": {},
   "outputs": [],
   "source": [
    "train['Annual_Income'].fillna(train['Annual_Income'].mean(), inplace=True)\n",
    "test['Annual_Income'].fillna(test['Annual_Income'].mean(), inplace=True)"
   ]
  },
  {
   "cell_type": "code",
   "execution_count": 25,
   "metadata": {},
   "outputs": [],
   "source": [
    "train['Home_Owner'].fillna(\"Mortgage\", inplace=True)\n",
    "test['Home_Owner'].fillna(\"Mortgage\", inplace=True)"
   ]
  },
  {
   "cell_type": "code",
   "execution_count": 26,
   "metadata": {},
   "outputs": [],
   "source": [
    "train['Length_Employed'].fillna('10+ years', inplace=True)\n",
    "test['Length_Employed'].fillna('10+ years', inplace=True)"
   ]
  },
  {
   "cell_type": "code",
   "execution_count": 27,
   "metadata": {},
   "outputs": [],
   "source": [
    "train['Months_Since_Deliquency'].fillna('0', inplace=True)\n",
    "test['Months_Since_Deliquency'].fillna('0', inplace=True)"
   ]
  },
  {
   "cell_type": "code",
   "execution_count": 28,
   "metadata": {},
   "outputs": [],
   "source": [
    "combine = [train, test]\n",
    "\n",
    "for dataset in combine:\n",
    "    dataset['Loan_Amount_Requested'] = dataset['Loan_Amount_Requested'].astype(int)\n",
    "    dataset['Home_Owner'] = dataset['Home_Owner'].replace(['Own','Other','None'],'Other')\n",
    "    dataset['Home_Owner'] = dataset['Home_Owner'].map( {'Other': 2, 'Rent':1, 'Mortgage': 0} ).astype(int)\n",
    "    dataset['Purpose_Of_Loan'] = dataset['Purpose_Of_Loan'].replace(['credit_card','home_improvement','other','small_business','vacation','wedding','Major','major_purchase','car','house','medical','renewable_energy','moving','educational'],'Non debt_consolidation')\n",
    "    dataset['Purpose_Of_Loan'] = dataset['Purpose_Of_Loan'].map( {'debt_consolidation': 1, 'Non debt_consolidation': 0} ).astype(int)\n",
    "    dataset['Length_Employed'] = dataset['Length_Employed'].replace(['7 years','8 years','9 years','6 years','5 years'],'5+ years')\n",
    "    dataset['Length_Employed'] = dataset['Length_Employed'].replace(['< 1 year','1 year','2 years','3 years','4 years'],'Others')\n",
    "    dataset['Length_Employed'] = dataset['Length_Employed'].map( {'Others': 2, '5+ years' : 1, '10+ years': 0} ).astype(int)\n",
    "    dataset['Gender'] = dataset['Gender'].map( {'Female': 1, 'Male': 0} ).astype(int)\n",
    "    dataset['Income_Verified'] = dataset['Income_Verified'].map( {'not verified': 2, 'VERIFIED - income':1,'VERIFIED - income source': 0} ).astype(int)\n",
    "    dataset['Loan_Amount_Requested'] = dataset['Loan_Amount_Requested'].fillna(0)\n",
    "    dataset['Loan_Amount_Requested'] = dataset['Loan_Amount_Requested'].astype(int)"
   ]
  },
  {
   "cell_type": "code",
   "execution_count": 29,
   "metadata": {},
   "outputs": [
    {
     "data": {
      "text/html": [
       "<div>\n",
       "<style scoped>\n",
       "    .dataframe tbody tr th:only-of-type {\n",
       "        vertical-align: middle;\n",
       "    }\n",
       "\n",
       "    .dataframe tbody tr th {\n",
       "        vertical-align: top;\n",
       "    }\n",
       "\n",
       "    .dataframe thead th {\n",
       "        text-align: right;\n",
       "    }\n",
       "</style>\n",
       "<table border=\"1\" class=\"dataframe\">\n",
       "  <thead>\n",
       "    <tr style=\"text-align: right;\">\n",
       "      <th></th>\n",
       "      <th>Loan_Amount_Requested</th>\n",
       "      <th>Length_Employed</th>\n",
       "      <th>Home_Owner</th>\n",
       "      <th>Annual_Income</th>\n",
       "      <th>Income_Verified</th>\n",
       "      <th>Purpose_Of_Loan</th>\n",
       "      <th>Debt_To_Income</th>\n",
       "      <th>Inquiries_Last_6Mo</th>\n",
       "      <th>Months_Since_Deliquency</th>\n",
       "      <th>Number_Open_Accounts</th>\n",
       "      <th>Total_Accounts</th>\n",
       "      <th>Gender</th>\n",
       "    </tr>\n",
       "  </thead>\n",
       "  <tbody>\n",
       "    <tr>\n",
       "      <th>0</th>\n",
       "      <td>7000</td>\n",
       "      <td>2</td>\n",
       "      <td>1</td>\n",
       "      <td>68000.000000</td>\n",
       "      <td>2</td>\n",
       "      <td>0</td>\n",
       "      <td>18.37</td>\n",
       "      <td>0</td>\n",
       "      <td>0</td>\n",
       "      <td>9</td>\n",
       "      <td>14</td>\n",
       "      <td>1</td>\n",
       "    </tr>\n",
       "    <tr>\n",
       "      <th>1</th>\n",
       "      <td>30000</td>\n",
       "      <td>2</td>\n",
       "      <td>0</td>\n",
       "      <td>73331.159434</td>\n",
       "      <td>1</td>\n",
       "      <td>1</td>\n",
       "      <td>14.93</td>\n",
       "      <td>0</td>\n",
       "      <td>17</td>\n",
       "      <td>12</td>\n",
       "      <td>24</td>\n",
       "      <td>1</td>\n",
       "    </tr>\n",
       "    <tr>\n",
       "      <th>2</th>\n",
       "      <td>24725</td>\n",
       "      <td>1</td>\n",
       "      <td>0</td>\n",
       "      <td>75566.400000</td>\n",
       "      <td>0</td>\n",
       "      <td>1</td>\n",
       "      <td>15.88</td>\n",
       "      <td>0</td>\n",
       "      <td>0</td>\n",
       "      <td>12</td>\n",
       "      <td>16</td>\n",
       "      <td>0</td>\n",
       "    </tr>\n",
       "    <tr>\n",
       "      <th>3</th>\n",
       "      <td>16000</td>\n",
       "      <td>2</td>\n",
       "      <td>0</td>\n",
       "      <td>56160.000000</td>\n",
       "      <td>0</td>\n",
       "      <td>1</td>\n",
       "      <td>14.34</td>\n",
       "      <td>3</td>\n",
       "      <td>0</td>\n",
       "      <td>16</td>\n",
       "      <td>22</td>\n",
       "      <td>0</td>\n",
       "    </tr>\n",
       "    <tr>\n",
       "      <th>4</th>\n",
       "      <td>17000</td>\n",
       "      <td>1</td>\n",
       "      <td>2</td>\n",
       "      <td>96000.000000</td>\n",
       "      <td>0</td>\n",
       "      <td>1</td>\n",
       "      <td>22.17</td>\n",
       "      <td>1</td>\n",
       "      <td>0</td>\n",
       "      <td>19</td>\n",
       "      <td>30</td>\n",
       "      <td>1</td>\n",
       "    </tr>\n",
       "    <tr>\n",
       "      <th>...</th>\n",
       "      <td>...</td>\n",
       "      <td>...</td>\n",
       "      <td>...</td>\n",
       "      <td>...</td>\n",
       "      <td>...</td>\n",
       "      <td>...</td>\n",
       "      <td>...</td>\n",
       "      <td>...</td>\n",
       "      <td>...</td>\n",
       "      <td>...</td>\n",
       "      <td>...</td>\n",
       "      <td>...</td>\n",
       "    </tr>\n",
       "    <tr>\n",
       "      <th>164304</th>\n",
       "      <td>20725</td>\n",
       "      <td>0</td>\n",
       "      <td>1</td>\n",
       "      <td>73331.159434</td>\n",
       "      <td>0</td>\n",
       "      <td>0</td>\n",
       "      <td>13.56</td>\n",
       "      <td>0</td>\n",
       "      <td>0</td>\n",
       "      <td>13</td>\n",
       "      <td>16</td>\n",
       "      <td>0</td>\n",
       "    </tr>\n",
       "    <tr>\n",
       "      <th>164305</th>\n",
       "      <td>6000</td>\n",
       "      <td>1</td>\n",
       "      <td>2</td>\n",
       "      <td>73331.159434</td>\n",
       "      <td>0</td>\n",
       "      <td>0</td>\n",
       "      <td>9.12</td>\n",
       "      <td>0</td>\n",
       "      <td>36</td>\n",
       "      <td>13</td>\n",
       "      <td>30</td>\n",
       "      <td>0</td>\n",
       "    </tr>\n",
       "    <tr>\n",
       "      <th>164306</th>\n",
       "      <td>20250</td>\n",
       "      <td>0</td>\n",
       "      <td>0</td>\n",
       "      <td>73331.159434</td>\n",
       "      <td>1</td>\n",
       "      <td>0</td>\n",
       "      <td>18.17</td>\n",
       "      <td>1</td>\n",
       "      <td>0</td>\n",
       "      <td>17</td>\n",
       "      <td>30</td>\n",
       "      <td>0</td>\n",
       "    </tr>\n",
       "    <tr>\n",
       "      <th>164307</th>\n",
       "      <td>10000</td>\n",
       "      <td>2</td>\n",
       "      <td>1</td>\n",
       "      <td>73331.159434</td>\n",
       "      <td>2</td>\n",
       "      <td>0</td>\n",
       "      <td>18.75</td>\n",
       "      <td>1</td>\n",
       "      <td>48</td>\n",
       "      <td>16</td>\n",
       "      <td>62</td>\n",
       "      <td>1</td>\n",
       "    </tr>\n",
       "    <tr>\n",
       "      <th>164308</th>\n",
       "      <td>9250</td>\n",
       "      <td>0</td>\n",
       "      <td>1</td>\n",
       "      <td>73331.159434</td>\n",
       "      <td>1</td>\n",
       "      <td>0</td>\n",
       "      <td>19.44</td>\n",
       "      <td>1</td>\n",
       "      <td>0</td>\n",
       "      <td>5</td>\n",
       "      <td>9</td>\n",
       "      <td>1</td>\n",
       "    </tr>\n",
       "  </tbody>\n",
       "</table>\n",
       "<p>164309 rows × 12 columns</p>\n",
       "</div>"
      ],
      "text/plain": [
       "        Loan_Amount_Requested  Length_Employed  Home_Owner  Annual_Income  \\\n",
       "0                        7000                2           1   68000.000000   \n",
       "1                       30000                2           0   73331.159434   \n",
       "2                       24725                1           0   75566.400000   \n",
       "3                       16000                2           0   56160.000000   \n",
       "4                       17000                1           2   96000.000000   \n",
       "...                       ...              ...         ...            ...   \n",
       "164304                  20725                0           1   73331.159434   \n",
       "164305                   6000                1           2   73331.159434   \n",
       "164306                  20250                0           0   73331.159434   \n",
       "164307                  10000                2           1   73331.159434   \n",
       "164308                   9250                0           1   73331.159434   \n",
       "\n",
       "        Income_Verified  Purpose_Of_Loan  Debt_To_Income  Inquiries_Last_6Mo  \\\n",
       "0                     2                0           18.37                   0   \n",
       "1                     1                1           14.93                   0   \n",
       "2                     0                1           15.88                   0   \n",
       "3                     0                1           14.34                   3   \n",
       "4                     0                1           22.17                   1   \n",
       "...                 ...              ...             ...                 ...   \n",
       "164304                0                0           13.56                   0   \n",
       "164305                0                0            9.12                   0   \n",
       "164306                1                0           18.17                   1   \n",
       "164307                2                0           18.75                   1   \n",
       "164308                1                0           19.44                   1   \n",
       "\n",
       "       Months_Since_Deliquency  Number_Open_Accounts  Total_Accounts  Gender  \n",
       "0                            0                     9              14       1  \n",
       "1                           17                    12              24       1  \n",
       "2                            0                    12              16       0  \n",
       "3                            0                    16              22       0  \n",
       "4                            0                    19              30       1  \n",
       "...                        ...                   ...             ...     ...  \n",
       "164304                       0                    13              16       0  \n",
       "164305                      36                    13              30       0  \n",
       "164306                       0                    17              30       0  \n",
       "164307                      48                    16              62       1  \n",
       "164308                       0                     5               9       1  \n",
       "\n",
       "[164309 rows x 12 columns]"
      ]
     },
     "execution_count": 29,
     "metadata": {},
     "output_type": "execute_result"
    }
   ],
   "source": [
    "train"
   ]
  },
  {
   "cell_type": "markdown",
   "metadata": {},
   "source": [
    "# Models"
   ]
  },
  {
   "cell_type": "code",
   "execution_count": 47,
   "metadata": {},
   "outputs": [],
   "source": [
    "from sklearn.linear_model import LogisticRegression\n",
    "from sklearn.ensemble import RandomForestClassifier\n",
    "from sklearn.model_selection import train_test_split"
   ]
  },
  {
   "cell_type": "code",
   "execution_count": 33,
   "metadata": {},
   "outputs": [],
   "source": [
    "from sklearn.metrics import accuracy_score, f1_score, precision_score, recall_score, classification_report\n",
    "\n",
    "def get_metrics(y_test, y_predicted):  \n",
    "    # true positives / (true positives+false positives)\n",
    "    precision = precision_score(y_test, y_predicted, pos_label=None,\n",
    "                                    average='weighted')             \n",
    "    # true positives / (true positives + false negatives)\n",
    "    recall = recall_score(y_test, y_predicted, pos_label=None,\n",
    "                              average='weighted')\n",
    "    \n",
    "    # harmonic mean of precision and recall\n",
    "    f1 = f1_score(y_test, y_predicted, pos_label=None, average='weighted')\n",
    "    \n",
    "    # true positives + true negatives/ total\n",
    "    accuracy = accuracy_score(y_test, y_predicted)\n",
    "    return accuracy, precision, recall, f1"
   ]
  },
  {
   "cell_type": "code",
   "execution_count": 31,
   "metadata": {},
   "outputs": [],
   "source": [
    "X_train, X_test, Y_train, Y_test = train_test_split(train, target, test_size=0.2)"
   ]
  },
  {
   "cell_type": "markdown",
   "metadata": {},
   "source": [
    "**Logistic Regression**"
   ]
  },
  {
   "cell_type": "code",
   "execution_count": 34,
   "metadata": {},
   "outputs": [],
   "source": [
    "logreg = LogisticRegression()\n",
    "logreg.fit(X_train, Y_train)\n",
    "Y_pred = logreg.predict(X_test)"
   ]
  },
  {
   "cell_type": "code",
   "execution_count": 35,
   "metadata": {},
   "outputs": [
    {
     "name": "stdout",
     "output_type": "stream",
     "text": [
      "accuracy = 0.455, precision = 0.586, recall = 0.455, f1 = 0.502\n"
     ]
    }
   ],
   "source": [
    "accuracy, precision, recall, f1 = get_metrics(Y_pred, Y_test)\n",
    "print(\"accuracy = %.3f, precision = %.3f, recall = %.3f, f1 = %.3f\" % (accuracy, precision, recall, f1))"
   ]
  },
  {
   "cell_type": "markdown",
   "metadata": {},
   "source": [
    "**Random Forest**"
   ]
  },
  {
   "cell_type": "code",
   "execution_count": 36,
   "metadata": {},
   "outputs": [],
   "source": [
    "random_forest = RandomForestClassifier(n_estimators=100, max_depth=5)\n",
    "random_forest.fit(X_train, Y_train)\n",
    "Y_pred = random_forest.predict(X_test)"
   ]
  },
  {
   "cell_type": "code",
   "execution_count": 37,
   "metadata": {},
   "outputs": [
    {
     "name": "stdout",
     "output_type": "stream",
     "text": [
      "accuracy = 0.496, precision = 0.631, recall = 0.496, f1 = 0.547\n"
     ]
    }
   ],
   "source": [
    "accuracy, precision, recall, f1 = get_metrics(Y_pred, Y_test)\n",
    "print(\"accuracy = %.3f, precision = %.3f, recall = %.3f, f1 = %.3f\" % (accuracy, precision, recall, f1))"
   ]
  },
  {
   "cell_type": "markdown",
   "metadata": {},
   "source": [
    "**AdaBoost**"
   ]
  },
  {
   "cell_type": "code",
   "execution_count": 38,
   "metadata": {},
   "outputs": [],
   "source": [
    "# Fitting Ada-boost to the Training set\n",
    "from sklearn.ensemble import AdaBoostClassifier, GradientBoostingClassifier, RandomForestClassifier\n",
    "ADA = AdaBoostClassifier(base_estimator=None, n_estimators=420, learning_rate=1.0)\n",
    "ADA.fit(X_train, Y_train)\n",
    "y_pred = ADA.predict(X_test)"
   ]
  },
  {
   "cell_type": "code",
   "execution_count": 39,
   "metadata": {},
   "outputs": [
    {
     "name": "stdout",
     "output_type": "stream",
     "text": [
      "              precision    recall  f1-score   support\n",
      "\n",
      "           1       0.53      0.25      0.33      6856\n",
      "           2       0.49      0.63      0.55     14061\n",
      "           3       0.57      0.54      0.56     11945\n",
      "\n",
      "    accuracy                           0.52     32862\n",
      "   macro avg       0.53      0.47      0.48     32862\n",
      "weighted avg       0.52      0.52      0.51     32862\n",
      "\n"
     ]
    }
   ],
   "source": [
    "#Let's see how our model performed\n",
    "from sklearn.metrics import classification_report\n",
    "print(classification_report(Y_test, y_pred))"
   ]
  },
  {
   "cell_type": "markdown",
   "metadata": {},
   "source": [
    "**Gradient Boosting**"
   ]
  },
  {
   "cell_type": "code",
   "execution_count": 40,
   "metadata": {},
   "outputs": [],
   "source": [
    "# Fitting GradientBoosting to the Training set\n",
    "from sklearn.neighbors import KNeighborsClassifier\n",
    "GB = GradientBoostingClassifier(loss='deviance', learning_rate=0.1, n_estimators=400, subsample=1.0,\n",
    "                                   min_samples_split=2, min_samples_leaf=1, min_weight_fraction_leaf=0.0, \n",
    "                                   max_depth=8,\n",
    "                                   init=None, random_state=None, max_features=None, verbose=0)\n",
    "GB.fit(X_train, Y_train)\n",
    "y_pred = GB.predict(X_test)"
   ]
  },
  {
   "cell_type": "code",
   "execution_count": 41,
   "metadata": {},
   "outputs": [
    {
     "name": "stdout",
     "output_type": "stream",
     "text": [
      "              precision    recall  f1-score   support\n",
      "\n",
      "           1       0.49      0.28      0.36      6856\n",
      "           2       0.49      0.60      0.54     14061\n",
      "           3       0.57      0.55      0.56     11945\n",
      "\n",
      "    accuracy                           0.52     32862\n",
      "   macro avg       0.51      0.48      0.49     32862\n",
      "weighted avg       0.52      0.52      0.51     32862\n",
      "\n"
     ]
    }
   ],
   "source": [
    "#Let's see how our model performed\n",
    "from sklearn.metrics import classification_report\n",
    "print(classification_report(Y_test, y_pred))"
   ]
  },
  {
   "cell_type": "markdown",
   "metadata": {},
   "source": [
    "**Search for better parameters**"
   ]
  },
  {
   "cell_type": "code",
   "execution_count": 44,
   "metadata": {},
   "outputs": [],
   "source": [
    "from sklearn.model_selection import RandomizedSearchCV\n",
    "from scipy.stats import randint"
   ]
  },
  {
   "cell_type": "code",
   "execution_count": 45,
   "metadata": {},
   "outputs": [
    {
     "name": "stdout",
     "output_type": "stream",
     "text": [
      "Fitting 5 folds for each of 5 candidates, totalling 25 fits\n",
      "[CV] n_estimators=10 .................................................\n"
     ]
    },
    {
     "name": "stderr",
     "output_type": "stream",
     "text": [
      "[Parallel(n_jobs=1)]: Using backend SequentialBackend with 1 concurrent workers.\n"
     ]
    },
    {
     "name": "stdout",
     "output_type": "stream",
     "text": [
      "[CV] .................................. n_estimators=10, total=   2.5s\n",
      "[CV] n_estimators=10 .................................................\n"
     ]
    },
    {
     "name": "stderr",
     "output_type": "stream",
     "text": [
      "[Parallel(n_jobs=1)]: Done   1 out of   1 | elapsed:    2.5s remaining:    0.0s\n"
     ]
    },
    {
     "name": "stdout",
     "output_type": "stream",
     "text": [
      "[CV] .................................. n_estimators=10, total=   2.3s\n",
      "[CV] n_estimators=10 .................................................\n",
      "[CV] .................................. n_estimators=10, total=   2.3s\n",
      "[CV] n_estimators=10 .................................................\n",
      "[CV] .................................. n_estimators=10, total=   2.1s\n",
      "[CV] n_estimators=10 .................................................\n",
      "[CV] .................................. n_estimators=10, total=   2.1s\n",
      "[CV] n_estimators=50 .................................................\n",
      "[CV] .................................. n_estimators=50, total=  10.6s\n",
      "[CV] n_estimators=50 .................................................\n",
      "[CV] .................................. n_estimators=50, total=  10.4s\n",
      "[CV] n_estimators=50 .................................................\n",
      "[CV] .................................. n_estimators=50, total=  11.3s\n",
      "[CV] n_estimators=50 .................................................\n",
      "[CV] .................................. n_estimators=50, total=  11.6s\n",
      "[CV] n_estimators=50 .................................................\n",
      "[CV] .................................. n_estimators=50, total=   9.9s\n",
      "[CV] n_estimators=100 ................................................\n",
      "[CV] ................................. n_estimators=100, total=  19.4s\n",
      "[CV] n_estimators=100 ................................................\n",
      "[CV] ................................. n_estimators=100, total=  19.2s\n",
      "[CV] n_estimators=100 ................................................\n",
      "[CV] ................................. n_estimators=100, total=  19.0s\n",
      "[CV] n_estimators=100 ................................................\n",
      "[CV] ................................. n_estimators=100, total=  19.0s\n",
      "[CV] n_estimators=100 ................................................\n",
      "[CV] ................................. n_estimators=100, total=  21.7s\n",
      "[CV] n_estimators=200 ................................................\n",
      "[CV] ................................. n_estimators=200, total=  41.3s\n",
      "[CV] n_estimators=200 ................................................\n",
      "[CV] ................................. n_estimators=200, total=  40.9s\n",
      "[CV] n_estimators=200 ................................................\n",
      "[CV] ................................. n_estimators=200, total=  38.5s\n",
      "[CV] n_estimators=200 ................................................\n",
      "[CV] ................................. n_estimators=200, total=  36.9s\n",
      "[CV] n_estimators=200 ................................................\n",
      "[CV] ................................. n_estimators=200, total=  36.6s\n",
      "[CV] n_estimators=420 ................................................\n",
      "[CV] ................................. n_estimators=420, total= 1.3min\n",
      "[CV] n_estimators=420 ................................................\n",
      "[CV] ................................. n_estimators=420, total= 1.4min\n",
      "[CV] n_estimators=420 ................................................\n",
      "[CV] ................................. n_estimators=420, total= 1.4min\n",
      "[CV] n_estimators=420 ................................................\n",
      "[CV] ................................. n_estimators=420, total= 1.4min\n",
      "[CV] n_estimators=420 ................................................\n",
      "[CV] ................................. n_estimators=420, total= 1.4min\n"
     ]
    },
    {
     "name": "stderr",
     "output_type": "stream",
     "text": [
      "[Parallel(n_jobs=1)]: Done  25 out of  25 | elapsed: 12.9min finished\n"
     ]
    },
    {
     "data": {
      "text/plain": [
       "({'n_estimators': 420}, 0.5110383506601014)"
      ]
     },
     "execution_count": 45,
     "metadata": {},
     "output_type": "execute_result"
    }
   ],
   "source": [
    "adaHyperParams = {'n_estimators': [10,50,100,200,420]}\n",
    "gridSearchAda = RandomizedSearchCV(estimator=ADA, param_distributions=adaHyperParams, n_iter=5,scoring='f1_weighted', cv=None, verbose=2).fit(X_train, Y_train)\n",
    "gridSearchAda.best_params_, gridSearchAda.best_score_"
   ]
  },
  {
   "cell_type": "code",
   "execution_count": null,
   "metadata": {},
   "outputs": [],
   "source": [
    "# gbHyperParams = {'loss' : ['deviance'],\n",
    "#                  'n_estimators': randint(10, 500),\n",
    "#                  'max_depth': randint(1,10)}\n",
    "# gridSearchGB = RandomizedSearchCV(estimator=GB, param_distributions=gbHyperParams, n_iter=10,\n",
    "#                                    scoring='f1_weighted', cv=None, verbose=2).fit(X_train, Y_train)\n",
    "# gridSearchGB.best_params_, gridSearchGB.best_score_"
   ]
  },
  {
   "cell_type": "markdown",
   "metadata": {},
   "source": [
    "**Ensemble Model - GradientBoost and AdaBoost**"
   ]
  },
  {
   "cell_type": "code",
   "execution_count": 42,
   "metadata": {},
   "outputs": [],
   "source": [
    "from sklearn.ensemble import VotingClassifier\n",
    "votingMod = VotingClassifier(estimators=[('gb', GB), \n",
    "                                         ('ada', ADA)], voting='soft',weights=[2,1])\n",
    "votingMod = votingMod.fit(X_train, Y_train)"
   ]
  },
  {
   "cell_type": "code",
   "execution_count": 43,
   "metadata": {},
   "outputs": [
    {
     "data": {
      "text/plain": [
       "0.5215142109427302"
      ]
     },
     "execution_count": 43,
     "metadata": {},
     "output_type": "execute_result"
    }
   ],
   "source": [
    "test_labels=votingMod.predict_proba(np.array(X_test))[:,1]\n",
    "votingMod.score(X_test, Y_test)"
   ]
  },
  {
   "cell_type": "code",
   "execution_count": null,
   "metadata": {},
   "outputs": [],
   "source": []
  }
 ],
 "metadata": {
  "kernelspec": {
   "display_name": "Python 3",
   "language": "python",
   "name": "python3"
  },
  "language_info": {
   "codemirror_mode": {
    "name": "ipython",
    "version": 3
   },
   "file_extension": ".py",
   "mimetype": "text/x-python",
   "name": "python",
   "nbconvert_exporter": "python",
   "pygments_lexer": "ipython3",
   "version": "3.7.6"
  }
 },
 "nbformat": 4,
 "nbformat_minor": 4
}
